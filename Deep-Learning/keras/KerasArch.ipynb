{
 "cells": [
  {
   "cell_type": "markdown",
   "metadata": {},
   "source": [
    "Keras has a modular minimalist and easy extendable architecture. The library was developed with a focus on enabling fast experimentation. Being able to go from idea to result with the least possible delay is key to doing good research."
   ]
  },
  {
   "cell_type": "markdown",
   "metadata": {},
   "source": [
    "Keras is \n",
    "\n",
    "- Modular: A model is either a sequence or a graph of standalone modules that can be combined together for building neural networks.\n",
    "\n",
    "- Minimal: implemented in Python and each module is kept short and self-describing\n",
    "\n",
    "- Easy extensibility: can be extended with new functionalities"
   ]
  },
  {
   "cell_type": "markdown",
   "metadata": {},
   "source": [
    "Keras uses either Theano or TensorFlow to perform very efficient computations on tensors. Both the backends are capable of efficient symbolic computations on tensors, which are the fundamental building blocks for creating neural networks."
   ]
  },
  {
   "cell_type": "markdown",
   "metadata": {},
   "source": [
    "There are two ways of composing models in Keras."
   ]
  },
  {
   "cell_type": "markdown",
   "metadata": {},
   "source": [
    "- Sequential composition, where different predefined models are stacked together in a linear pipeline of layers imilar to a stack or queue."
   ]
  },
  {
   "cell_type": "markdown",
   "metadata": {},
   "source": [
    "- Functional composition"
   ]
  },
  {
   "cell_type": "markdown",
   "metadata": {},
   "source": [
    "# An overview of predefined neural network layers\n",
    "\n",
    "Keras has a number of prebuilt layers.\n",
    "\n",
    "## Regular dense\n",
    "\n",
    "A dense model is a fully connected neural network layer.\n",
    "\n",
    "## Recurrent neural networks - simple, LSTM, and GRU\n",
    "\n",
    "Recurrent neural networks are a class of neural networks that exploit the sequential nature of their input.\n",
    "\n",
    "## Convolutional and pooling layers\n",
    "\n",
    "ConvNets are a class of neural networks using convolutional and pooling operations for progressively learning rather than sophisticated models based on progressive levels of abstraction."
   ]
  },
  {
   "cell_type": "markdown",
   "metadata": {},
   "source": [
    "## Regularization\n",
    "\n",
    "Regularization is a way to prevent overfitting. It is possbile to use Dropout for regularization and that is frequently a very effective choice.\n",
    "\n",
    "## Batch Normalization\n",
    "\n",
    "Batch normalization is a way to accelerate learning generally achieve better accuracy."
   ]
  },
  {
   "cell_type": "markdown",
   "metadata": {},
   "source": [
    "# Activation functions\n",
    "\n",
    "Activation includes commonly used functions such as sigmoid, linear, hyperbolic tangent and ReLU.\n",
    "\n",
    "# Loss functions\n",
    "\n",
    "- binary_accuracy, categorical_accuracy, sparse_categorical_accuracy, top_k_categorical_accuracy: used for classification problems\n",
    "\n",
    "- Error loss: `mse` (mean square error), `rmse` (root mean square error), `mae` (mean absolute error), `mape` (mean absolute percentage error), `msle` (mean squared logirthmic error)\n",
    "\n",
    "- Hinge loss\n",
    "\n",
    "- Class loss: cross entropy for classification problems\n",
    "\n",
    "# Metrics\n",
    "\n",
    "A metric function is similar to an objective function. A metric is not used when training the model.\n",
    "\n",
    "# Optimizers\n",
    "\n",
    "SGD, RMSprop, Adam, Adagrad, Adadelta"
   ]
  },
  {
   "cell_type": "markdown",
   "metadata": {},
   "source": [
    "# Checkpoiting\n",
    "\n",
    "Checkpointing is a process that saves a snapshot of the application's state at regular intervals, so the applicaiton can be restarted from the last saved state in case of failure. The state of a deep learning model at any point is the weights of the model at that time. Keras saves these weights in HDF5 format and provides checkpointing using its callback API. You can stop your training to test and resume training later or retain the best version as it trains over multiple epochs."
   ]
  },
  {
   "cell_type": "code",
   "execution_count": null,
   "metadata": {},
   "outputs": [],
   "source": [
    "# save best model\n",
    "checkpoint = ModelCheckpoint(filepath=os.path.join(MODEL_DIR, \"model-{epoch:02d}.h5\"))\n",
    "model.fit(...,callbacks=[checkpoint])"
   ]
  },
  {
   "cell_type": "markdown",
   "metadata": {},
   "source": [
    "Quiver is a tool useful for visualizing ConvNets features in an interactive way."
   ]
  },
  {
   "cell_type": "code",
   "execution_count": null,
   "metadata": {},
   "outputs": [],
   "source": []
  }
 ],
 "metadata": {
  "kernelspec": {
   "display_name": "Python 3",
   "language": "python",
   "name": "python3"
  },
  "language_info": {
   "codemirror_mode": {
    "name": "ipython",
    "version": 3
   },
   "file_extension": ".py",
   "mimetype": "text/x-python",
   "name": "python",
   "nbconvert_exporter": "python",
   "pygments_lexer": "ipython3",
   "version": "3.7.3"
  }
 },
 "nbformat": 4,
 "nbformat_minor": 2
}
