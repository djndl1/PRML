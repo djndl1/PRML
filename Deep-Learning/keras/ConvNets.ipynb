{
  "nbformat": 4,
  "nbformat_minor": 0,
  "metadata": {
    "kernelspec": {
      "name": "python3",
      "display_name": "Python 3"
    },
    "language_info": {
      "codemirror_mode": {
        "name": "ipython",
        "version": 3
      },
      "file_extension": ".py",
      "mimetype": "text/x-python",
      "name": "python",
      "nbconvert_exporter": "python",
      "pygments_lexer": "ipython3",
      "version": "3.7.3"
    },
    "colab": {
      "name": "ConvNets.ipynb",
      "version": "0.3.2",
      "provenance": []
    },
    "accelerator": "GPU"
  },
  "cells": [
    {
      "cell_type": "markdown",
      "metadata": {
        "id": "zy9C7Mbw7-U4",
        "colab_type": "text"
      },
      "source": [
        "Convolutional neural networks leverage spatial information and are very well suited for classifying images. Theses nets use an ad hoc architecture inspired by biological data taken from physiological experiments done on the visual cortex."
      ]
    },
    {
      "cell_type": "markdown",
      "metadata": {
        "id": "tis2EmAL7-VC",
        "colab_type": "text"
      },
      "source": [
        "A DCNN (deep convolutional neural network) has two different types of layers, convolutional and pooling. There are three key intuition beyond ConvNets:\n",
        "\n",
        "- Local receptive fields. A single hidden neuron represents one local receptive field, a submatrix of adjacent input neurons is connected to this hidden neuron. This connection is convolution. These submatrices can be overlapped and the length between them is _stride length_.\n",
        "\n",
        "- Shared weights. Convolutional operation uses the same kernel matrix for all neurons of the same layer.\n",
        "\n",
        "- Pooling. To summarize the output of a feature map, we use the spatial contiguity of the output produced from a single feature map and aggregate the values of a submatrix into a single output. We can use max-pooling or average pooling.\n"
      ]
    },
    {
      "cell_type": "markdown",
      "metadata": {
        "id": "I9BidLNN7-VJ",
        "colab_type": "text"
      },
      "source": [
        "# LeNet\n",
        "\n",
        "The key intuition  is to have low-layers alternating convolution operations with max-pooling opeartions. Then higher levels are fully connected layers based on a traditional MLP with hidden layers and softmax as the output layer."
      ]
    },
    {
      "cell_type": "code",
      "metadata": {
        "id": "ddI7ckl47-VN",
        "colab_type": "code",
        "colab": {
          "base_uri": "https://localhost:8080/",
          "height": 34
        },
        "outputId": "5886be2f-882f-4d75-9526-1274217d8858"
      },
      "source": [
        "from keras import backend as K\n",
        "from keras.models import Sequential\n",
        "from keras.layers.convolutional import Conv2D, MaxPooling2D\n",
        "from keras.layers.core import Activation, Flatten, Dense\n",
        "from keras.datasets import mnist\n",
        "from keras.utils import np_utils\n",
        "from keras.optimizers import SGD, RMSprop, Adam\n",
        "import numpy as np\n",
        "import matplotlib.pyplot as plt"
      ],
      "execution_count": 1,
      "outputs": [
        {
          "output_type": "stream",
          "text": [
            "Using TensorFlow backend.\n"
          ],
          "name": "stderr"
        }
      ]
    },
    {
      "cell_type": "code",
      "metadata": {
        "id": "KwCFiRFk7-Vh",
        "colab_type": "code",
        "colab": {}
      },
      "source": [
        "class LeNet:\n",
        "    @staticmethod\n",
        "    def build(input_shape, classes):\n",
        "        model = Sequential()\n",
        "        # Conv => ReLU => Pooling\n",
        "        model.add(Conv2D(20, kernel_size=5, padding='same', \n",
        "                         input_shape=input_shape, activation='relu'))\n",
        "        model.add(MaxPooling2D(pool_size=(2, 2), strides=(2, 2)))\n",
        "        model.add(Conv2D(50, kernel_size=5, padding='same',activation='relu'))\n",
        "        model.add(MaxPooling2D(pool_size=(2, 2), strides=(2, 2)))\n",
        "        # Flatten => ReLU\n",
        "        model.add(Flatten())\n",
        "        model.add(Dense(500, activation='relu'))\n",
        "        # a softmax classifier\n",
        "        model.add(Dense(classes, activation='softmax'))\n",
        "        \n",
        "        return model\n",
        "        "
      ],
      "execution_count": 0,
      "outputs": []
    },
    {
      "cell_type": "code",
      "metadata": {
        "id": "seTev3Kz7-Vw",
        "colab_type": "code",
        "colab": {}
      },
      "source": [
        "NB_EPOCH = 20\n",
        "BATCH_SIZE = 128\n",
        "VERBOSE = 1\n",
        "OPTIMIZER = Adam()\n",
        "VALIDATION_SPLIT = 0.2\n",
        "\n",
        "IMG_ROWS, IMG_COLS = 28, 28\n",
        "NB_CLASSES = 10\n",
        "INPUT_SHAPE = (1, IMG_ROWS, IMG_COLS)"
      ],
      "execution_count": 0,
      "outputs": []
    },
    {
      "cell_type": "code",
      "metadata": {
        "id": "5Ac6t82x7-V9",
        "colab_type": "code",
        "colab": {
          "base_uri": "https://localhost:8080/",
          "height": 51
        },
        "outputId": "54517d9c-4f41-473d-cce5-b3e110e40afc"
      },
      "source": [
        "(X_train, y_train), (X_test, y_test) = mnist.load_data()\n",
        "K.set_image_dim_ordering('th')"
      ],
      "execution_count": 4,
      "outputs": [
        {
          "output_type": "stream",
          "text": [
            "Downloading data from https://s3.amazonaws.com/img-datasets/mnist.npz\n",
            "11493376/11490434 [==============================] - 0s 0us/step\n"
          ],
          "name": "stdout"
        }
      ]
    },
    {
      "cell_type": "code",
      "metadata": {
        "id": "GxBJvD3E7-WM",
        "colab_type": "code",
        "colab": {}
      },
      "source": [
        "X_train = X_train.astype('float32')\n",
        "X_test = X_test.astype('float32')\n",
        "X_train /= 255\n",
        "X_test /= 255"
      ],
      "execution_count": 0,
      "outputs": []
    },
    {
      "cell_type": "code",
      "metadata": {
        "id": "i_8t-GGT7-Wb",
        "colab_type": "code",
        "colab": {}
      },
      "source": [
        "X_train = X_train[:, np.newaxis, :, :] # 60000 * 1(channel) * 28 * 28\n",
        "X_test = X_test[:, np.newaxis, :, :]"
      ],
      "execution_count": 0,
      "outputs": []
    },
    {
      "cell_type": "code",
      "metadata": {
        "id": "0OGeikEA7-Wr",
        "colab_type": "code",
        "colab": {}
      },
      "source": [
        "y_train = np_utils.to_categorical(y_train, NB_CLASSES)\n",
        "y_test = np_utils.to_categorical(y_test, NB_CLASSES)"
      ],
      "execution_count": 0,
      "outputs": []
    },
    {
      "cell_type": "code",
      "metadata": {
        "id": "hG4H98Qd7-W7",
        "colab_type": "code",
        "colab": {
          "base_uri": "https://localhost:8080/",
          "height": 292
        },
        "outputId": "ef837c13-d6b3-4db1-ed7f-9105d2fd26f4"
      },
      "source": [
        "model = LeNet.build(input_shape=INPUT_SHAPE, classes=NB_CLASSES)\n",
        "model.compile(loss='categorical_crossentropy', optimizer=OPTIMIZER,\n",
        "             metrics=['accuracy'])"
      ],
      "execution_count": 8,
      "outputs": [
        {
          "output_type": "stream",
          "text": [
            "WARNING: Logging before flag parsing goes to stderr.\n",
            "W0812 13:07:41.036310 139848496334720 deprecation_wrapper.py:119] From /usr/local/lib/python3.6/dist-packages/keras/backend/tensorflow_backend.py:74: The name tf.get_default_graph is deprecated. Please use tf.compat.v1.get_default_graph instead.\n",
            "\n",
            "W0812 13:07:41.040844 139848496334720 deprecation_wrapper.py:119] From /usr/local/lib/python3.6/dist-packages/keras/backend/tensorflow_backend.py:517: The name tf.placeholder is deprecated. Please use tf.compat.v1.placeholder instead.\n",
            "\n",
            "W0812 13:07:41.045581 139848496334720 deprecation_wrapper.py:119] From /usr/local/lib/python3.6/dist-packages/keras/backend/tensorflow_backend.py:4138: The name tf.random_uniform is deprecated. Please use tf.random.uniform instead.\n",
            "\n",
            "W0812 13:07:41.079597 139848496334720 deprecation_wrapper.py:119] From /usr/local/lib/python3.6/dist-packages/keras/backend/tensorflow_backend.py:174: The name tf.get_default_session is deprecated. Please use tf.compat.v1.get_default_session instead.\n",
            "\n",
            "W0812 13:07:41.082701 139848496334720 deprecation_wrapper.py:119] From /usr/local/lib/python3.6/dist-packages/keras/backend/tensorflow_backend.py:181: The name tf.ConfigProto is deprecated. Please use tf.compat.v1.ConfigProto instead.\n",
            "\n",
            "W0812 13:07:44.203121 139848496334720 deprecation_wrapper.py:119] From /usr/local/lib/python3.6/dist-packages/keras/backend/tensorflow_backend.py:3976: The name tf.nn.max_pool is deprecated. Please use tf.nn.max_pool2d instead.\n",
            "\n",
            "W0812 13:07:44.270118 139848496334720 deprecation_wrapper.py:119] From /usr/local/lib/python3.6/dist-packages/keras/optimizers.py:790: The name tf.train.Optimizer is deprecated. Please use tf.compat.v1.train.Optimizer instead.\n",
            "\n"
          ],
          "name": "stderr"
        }
      ]
    },
    {
      "cell_type": "code",
      "metadata": {
        "id": "o7BHNScU7-XO",
        "colab_type": "code",
        "colab": {
          "base_uri": "https://localhost:8080/",
          "height": 374
        },
        "outputId": "29e0a94f-a123-440e-e3d8-7871cb75f513"
      },
      "source": [
        "model.summary()"
      ],
      "execution_count": 9,
      "outputs": [
        {
          "output_type": "stream",
          "text": [
            "_________________________________________________________________\n",
            "Layer (type)                 Output Shape              Param #   \n",
            "=================================================================\n",
            "conv2d_1 (Conv2D)            (None, 20, 28, 28)        520       \n",
            "_________________________________________________________________\n",
            "max_pooling2d_1 (MaxPooling2 (None, 20, 14, 14)        0         \n",
            "_________________________________________________________________\n",
            "conv2d_2 (Conv2D)            (None, 50, 14, 14)        25050     \n",
            "_________________________________________________________________\n",
            "max_pooling2d_2 (MaxPooling2 (None, 50, 7, 7)          0         \n",
            "_________________________________________________________________\n",
            "flatten_1 (Flatten)          (None, 2450)              0         \n",
            "_________________________________________________________________\n",
            "dense_1 (Dense)              (None, 500)               1225500   \n",
            "_________________________________________________________________\n",
            "dense_2 (Dense)              (None, 10)                5010      \n",
            "=================================================================\n",
            "Total params: 1,256,080\n",
            "Trainable params: 1,256,080\n",
            "Non-trainable params: 0\n",
            "_________________________________________________________________\n"
          ],
          "name": "stdout"
        }
      ]
    },
    {
      "cell_type": "code",
      "metadata": {
        "id": "x9aH2PEU7-Xs",
        "colab_type": "code",
        "colab": {
          "base_uri": "https://localhost:8080/",
          "height": 785
        },
        "outputId": "ba582f37-a3c5-438e-b40e-3a1d3fced4fd"
      },
      "source": [
        "history = model.fit(X_train, y_train, \n",
        "\t\tbatch_size=BATCH_SIZE, epochs=NB_EPOCH, \n",
        "\t\tverbose=VERBOSE, validation_split=VALIDATION_SPLIT)"
      ],
      "execution_count": 10,
      "outputs": [
        {
          "output_type": "stream",
          "text": [
            "W0812 13:07:44.443542 139848496334720 deprecation.py:323] From /usr/local/lib/python3.6/dist-packages/tensorflow/python/ops/math_grad.py:1250: add_dispatch_support.<locals>.wrapper (from tensorflow.python.ops.array_ops) is deprecated and will be removed in a future version.\n",
            "Instructions for updating:\n",
            "Use tf.where in 2.0, which has the same broadcast rule as np.where\n"
          ],
          "name": "stderr"
        },
        {
          "output_type": "stream",
          "text": [
            "Train on 48000 samples, validate on 12000 samples\n",
            "Epoch 1/20\n",
            "48000/48000 [==============================] - 9s 192us/step - loss: 0.1891 - acc: 0.9432 - val_loss: 0.0622 - val_acc: 0.9806\n",
            "Epoch 2/20\n",
            "48000/48000 [==============================] - 6s 124us/step - loss: 0.0504 - acc: 0.9839 - val_loss: 0.0425 - val_acc: 0.9876\n",
            "Epoch 3/20\n",
            "48000/48000 [==============================] - 6s 126us/step - loss: 0.0342 - acc: 0.9890 - val_loss: 0.0427 - val_acc: 0.9861\n",
            "Epoch 4/20\n",
            "48000/48000 [==============================] - 6s 124us/step - loss: 0.0236 - acc: 0.9924 - val_loss: 0.0353 - val_acc: 0.9892\n",
            "Epoch 5/20\n",
            "48000/48000 [==============================] - 6s 122us/step - loss: 0.0177 - acc: 0.9939 - val_loss: 0.0396 - val_acc: 0.9883\n",
            "Epoch 6/20\n",
            "48000/48000 [==============================] - 6s 122us/step - loss: 0.0142 - acc: 0.9954 - val_loss: 0.0363 - val_acc: 0.9899\n",
            "Epoch 7/20\n",
            "48000/48000 [==============================] - 6s 122us/step - loss: 0.0108 - acc: 0.9964 - val_loss: 0.0299 - val_acc: 0.9903\n",
            "Epoch 8/20\n",
            "48000/48000 [==============================] - 6s 121us/step - loss: 0.0075 - acc: 0.9975 - val_loss: 0.0353 - val_acc: 0.9897\n",
            "Epoch 9/20\n",
            "48000/48000 [==============================] - 6s 122us/step - loss: 0.0082 - acc: 0.9971 - val_loss: 0.0374 - val_acc: 0.9903\n",
            "Epoch 10/20\n",
            "48000/48000 [==============================] - 6s 124us/step - loss: 0.0082 - acc: 0.9969 - val_loss: 0.0424 - val_acc: 0.9889\n",
            "Epoch 11/20\n",
            "48000/48000 [==============================] - 6s 122us/step - loss: 0.0059 - acc: 0.9980 - val_loss: 0.0367 - val_acc: 0.9914\n",
            "Epoch 12/20\n",
            "48000/48000 [==============================] - 6s 122us/step - loss: 0.0070 - acc: 0.9975 - val_loss: 0.0387 - val_acc: 0.9905\n",
            "Epoch 13/20\n",
            "48000/48000 [==============================] - 6s 123us/step - loss: 0.0060 - acc: 0.9977 - val_loss: 0.0360 - val_acc: 0.9913\n",
            "Epoch 14/20\n",
            "48000/48000 [==============================] - 6s 123us/step - loss: 0.0041 - acc: 0.9987 - val_loss: 0.0360 - val_acc: 0.9919\n",
            "Epoch 15/20\n",
            "48000/48000 [==============================] - 6s 125us/step - loss: 0.0024 - acc: 0.9993 - val_loss: 0.0384 - val_acc: 0.9914\n",
            "Epoch 16/20\n",
            "48000/48000 [==============================] - 6s 121us/step - loss: 0.0041 - acc: 0.9989 - val_loss: 0.0396 - val_acc: 0.9917\n",
            "Epoch 17/20\n",
            "48000/48000 [==============================] - 6s 121us/step - loss: 0.0047 - acc: 0.9985 - val_loss: 0.0417 - val_acc: 0.9913\n",
            "Epoch 18/20\n",
            "48000/48000 [==============================] - 6s 122us/step - loss: 0.0049 - acc: 0.9984 - val_loss: 0.0427 - val_acc: 0.9912\n",
            "Epoch 19/20\n",
            "48000/48000 [==============================] - 6s 126us/step - loss: 0.0045 - acc: 0.9985 - val_loss: 0.0396 - val_acc: 0.9916\n",
            "Epoch 20/20\n",
            "48000/48000 [==============================] - 6s 124us/step - loss: 0.0034 - acc: 0.9987 - val_loss: 0.0537 - val_acc: 0.9893\n"
          ],
          "name": "stdout"
        }
      ]
    },
    {
      "cell_type": "code",
      "metadata": {
        "id": "kyT3iwCJ7-X8",
        "colab_type": "code",
        "colab": {
          "base_uri": "https://localhost:8080/",
          "height": 85
        },
        "outputId": "22532311-8446-4784-8a54-8896e7bdb366"
      },
      "source": [
        "score = model.evaluate(X_test, y_test, verbose=VERBOSE)\n",
        "print(\"\\nTest score:\", score[0])\n",
        "print('Test accuracy:', score[1])"
      ],
      "execution_count": 11,
      "outputs": [
        {
          "output_type": "stream",
          "text": [
            "10000/10000 [==============================] - 1s 93us/step\n",
            "\n",
            "Test score: 0.03878004357766008\n",
            "Test accuracy: 0.9913\n"
          ],
          "name": "stdout"
        }
      ]
    },
    {
      "cell_type": "code",
      "metadata": {
        "id": "0I_R8Ysr7-YK",
        "colab_type": "code",
        "colab": {
          "base_uri": "https://localhost:8080/",
          "height": 34
        },
        "outputId": "27953a00-7230-4621-ddcb-32e8d0407337"
      },
      "source": [
        "print(history.history.keys())"
      ],
      "execution_count": 12,
      "outputs": [
        {
          "output_type": "stream",
          "text": [
            "dict_keys(['val_loss', 'val_acc', 'loss', 'acc'])\n"
          ],
          "name": "stdout"
        }
      ]
    },
    {
      "cell_type": "code",
      "metadata": {
        "id": "r-vbwMaQ7-Yb",
        "colab_type": "code",
        "colab": {
          "base_uri": "https://localhost:8080/",
          "height": 573
        },
        "outputId": "97855d5f-0ffa-4c62-c08d-8acdf36cd39c"
      },
      "source": [
        "plt.plot(history.history['acc'])\n",
        "plt.plot(history.history['val_acc'])\n",
        "plt.title('model accuracy')\n",
        "plt.ylabel('accuracy')\n",
        "plt.xlabel('epoch')\n",
        "plt.legend(['train', 'test'], loc='upper left')\n",
        "plt.show()\n",
        "# summarize history for loss\n",
        "plt.plot(history.history['loss'])\n",
        "plt.plot(history.history['val_loss'])\n",
        "plt.title('model loss')\n",
        "plt.ylabel('loss')\n",
        "plt.xlabel('epoch')\n",
        "plt.legend(['train', 'test'], loc='upper left')\n",
        "plt.show()"
      ],
      "execution_count": 13,
      "outputs": [
        {
          "output_type": "display_data",
          "data": {
            "image/png": "[encoded data removed]",
            "text/plain": [
              "<Figure size 432x288 with 1 Axes>"
            ]
          },
          "metadata": {
            "tags": []
          }
        },
        {
          "output_type": "display_data",
          "data": {
            "image/png": "[encoded data removed]",
            "text/plain": [
              "<Figure size 432x288 with 1 Axes>"
            ]
          },
          "metadata": {
            "tags": []
          }
        }
      ]
    },
    {
      "cell_type": "code",
      "metadata": {
        "id": "w9y5XK0W9lc6",
        "colab_type": "code",
        "colab": {}
      },
      "source": [
        "from google.colab import drive"
      ],
      "execution_count": 0,
      "outputs": []
    },
    {
      "cell_type": "code",
      "metadata": {
        "id": "6QggT9Fa9qr3",
        "colab_type": "code",
        "colab": {
          "base_uri": "https://localhost:8080/",
          "height": 122
        },
        "outputId": "4a702f60-7fbe-447f-e935-05d5d7edba78"
      },
      "source": [
        "drive.mount('/content/gdrive')"
      ],
      "execution_count": 17,
      "outputs": [
        {
          "output_type": "stream",
          "text": [
            "Go to this URL in a browser: https://accounts.google.com/o/oauth2/auth?client_id=947318989803-6bn6qk8qdgf4n4g3pfee6491hc0brc4i.apps.googleusercontent.com&redirect_uri=urn%3Aietf%3Awg%3Aoauth%3A2.0%3Aoob&scope=email%20https%3A%2F%2Fwww.googleapis.com%2Fauth%2Fdocs.test%20https%3A%2F%2Fwww.googleapis.com%2Fauth%2Fdrive%20https%3A%2F%2Fwww.googleapis.com%2Fauth%2Fdrive.photos.readonly%20https%3A%2F%2Fwww.googleapis.com%2Fauth%2Fpeopleapi.readonly&response_type=code\n",
            "\n",
            "Enter your authorization code:\n",
            "··········\n",
            "Mounted at /content/gdrive\n"
          ],
          "name": "stdout"
        }
      ]
    },
    {
      "cell_type": "code",
      "metadata": {
        "id": "hSiLbB0z_aiH",
        "colab_type": "code",
        "colab": {}
      },
      "source": [
        "model.save('gdrive/My Drive/LeNet.h5')"
      ],
      "execution_count": 0,
      "outputs": []
    },
    {
      "cell_type": "code",
      "metadata": {
        "id": "PkqouTvyABz5",
        "colab_type": "code",
        "colab": {}
      },
      "source": [
        ""
      ],
      "execution_count": 0,
      "outputs": []
    }
  ]
}