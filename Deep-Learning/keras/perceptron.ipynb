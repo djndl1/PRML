{
 "cells": [
  {
   "cell_type": "markdown",
   "metadata": {
    "colab_type": "text",
    "id": "TzizbyVDtun4"
   },
   "source": [
    "The simplest model in Keras is called _sequential_. A sequential Keras model is a linear pipeline of neural network layers."
   ]
  },
  {
   "cell_type": "code",
   "execution_count": 1,
   "metadata": {
    "colab": {
     "base_uri": "https://localhost:8080/",
     "height": 34
    },
    "colab_type": "code",
    "id": "eZYnKpFYtun-",
    "outputId": "427c3d07-b25a-40db-a1e2-5cda2c33d25d"
   },
   "outputs": [
    {
     "name": "stderr",
     "output_type": "stream",
     "text": [
      "Using Theano backend.\n"
     ]
    }
   ],
   "source": [
    "from keras.models import Sequential\n",
    "from keras.layers import Dense"
   ]
  },
  {
   "cell_type": "code",
   "execution_count": 2,
   "metadata": {
    "colab": {
     "base_uri": "https://localhost:8080/",
     "height": 156
    },
    "colab_type": "code",
    "id": "TZd9HTrjtuoN",
    "outputId": "14ab9b35-37df-47fa-e0a4-8277f6ff30c7"
   },
   "outputs": [
    {
     "name": "stderr",
     "output_type": "stream",
     "text": [
      "WARNING: Logging before flag parsing goes to stderr.\n",
      "W0810 13:29:25.271459 140715171055488 deprecation_wrapper.py:119] From /usr/local/lib/python3.6/dist-packages/keras/backend/tensorflow_backend.py:74: The name tf.get_default_graph is deprecated. Please use tf.compat.v1.get_default_graph instead.\n",
      "\n",
      "W0810 13:29:25.315969 140715171055488 deprecation_wrapper.py:119] From /usr/local/lib/python3.6/dist-packages/keras/backend/tensorflow_backend.py:517: The name tf.placeholder is deprecated. Please use tf.compat.v1.placeholder instead.\n",
      "\n",
      "W0810 13:29:25.323315 140715171055488 deprecation_wrapper.py:119] From /usr/local/lib/python3.6/dist-packages/keras/backend/tensorflow_backend.py:4138: The name tf.random_uniform is deprecated. Please use tf.random.uniform instead.\n",
      "\n"
     ]
    }
   ],
   "source": [
    "model = Sequential()\n",
    "model.add(Dense(12, input_dim=8, kernel_initializer='random_uniform')) "
   ]
  },
  {
   "cell_type": "markdown",
   "metadata": {
    "colab_type": "text",
    "id": "9mOKzzLXtuoZ"
   },
   "source": [
    "Weights are initialized to uniformly random small values in $(-0.05, 0.05)$"
   ]
  },
  {
   "cell_type": "markdown",
   "metadata": {
    "colab_type": "text",
    "id": "bpHEiFYMtuod"
   },
   "source": [
    "The multilayer perceptron is dense, meaning that each neuron in a layer is connected to all neurons located in the previous layer \n",
    "and to all the neurons in the following layer."
   ]
  },
  {
   "cell_type": "markdown",
   "metadata": {
    "colab_type": "text",
    "id": "aiSnJeDxtuog"
   },
   "source": [
    "# MNIST example"
   ]
  },
  {
   "cell_type": "code",
   "execution_count": 2,
   "metadata": {
    "colab": {},
    "colab_type": "code",
    "id": "ivyM_DTztuok"
   },
   "outputs": [],
   "source": [
    "import numpy as np\n",
    "from keras.datasets import mnist\n",
    "from keras.models import Sequential\n",
    "from keras.layers.core import Dense, Activation\n",
    "from keras.optimizers import SGD\n",
    "from keras.utils import np_utils\n",
    "np.random.seed(1671)"
   ]
  },
  {
   "cell_type": "code",
   "execution_count": 3,
   "metadata": {
    "colab": {},
    "colab_type": "code",
    "id": "IQaw_ICrtuow"
   },
   "outputs": [],
   "source": [
    "NB_EPOCH = 200\n",
    "BATCH_SIZE=128\n",
    "VERBOSE=1\n",
    "NB_CLASSES=10 # 10 digits, 10 classes\n",
    "OPTIMIZER = SGD()\n",
    "N_HIDDEN = 128\n",
    "VALIDATION_SPLIT = 0.2 # validation set "
   ]
  },
  {
   "cell_type": "code",
   "execution_count": 4,
   "metadata": {
    "colab": {
     "base_uri": "https://localhost:8080/",
     "height": 51
    },
    "colab_type": "code",
    "id": "Hz4o1IEctuo8",
    "outputId": "6490499b-7172-4d87-edd1-7aef4682122a"
   },
   "outputs": [],
   "source": [
    "(X_train, y_train), (X_test, y_test) = mnist.load_data()"
   ]
  },
  {
   "cell_type": "code",
   "execution_count": 5,
   "metadata": {
    "colab": {},
    "colab_type": "code",
    "id": "B4T5HtjytupH"
   },
   "outputs": [],
   "source": [
    "RESHAPED = 784\n",
    "X_train = X_train.reshape(60000, RESHAPED)\n",
    "X_test = X_test.reshape(10000, RESHAPED)\n",
    "X_train = X_train.astype('float32')\n",
    "X_test = X_test.astype('float32')"
   ]
  },
  {
   "cell_type": "code",
   "execution_count": 6,
   "metadata": {
    "colab": {},
    "colab_type": "code",
    "id": "B2xOeiRRtupT"
   },
   "outputs": [],
   "source": [
    "# Normalization\n",
    "X_train /= 255\n",
    "X_test /= 255\n",
    "Y_train = np_utils.to_categorical(y_train, NB_CLASSES)\n",
    "Y_test = np_utils.to_categorical(y_test, NB_CLASSES)"
   ]
  },
  {
   "cell_type": "code",
   "execution_count": 8,
   "metadata": {
    "colab": {
     "base_uri": "https://localhost:8080/",
     "height": 204
    },
    "colab_type": "code",
    "id": "ozxqOgMGtupe",
    "outputId": "90d58e33-978c-485d-d9c5-df1161e37672"
   },
   "outputs": [
    {
     "name": "stdout",
     "output_type": "stream",
     "text": [
      "_________________________________________________________________\n",
      "Layer (type)                 Output Shape              Param #   \n",
      "=================================================================\n",
      "dense_2 (Dense)              (None, 10)                7850      \n",
      "_________________________________________________________________\n",
      "activation_1 (Activation)    (None, 10)                0         \n",
      "=================================================================\n",
      "Total params: 7,850\n",
      "Trainable params: 7,850\n",
      "Non-trainable params: 0\n",
      "_________________________________________________________________\n"
     ]
    }
   ],
   "source": [
    "# 10 outputs, final stage is softmax\n",
    "model = Sequential()\n",
    "model.add(Dense(NB_CLASSES, input_shape=(RESHAPED, )))\n",
    "model.add(Activation('softmax'))\n",
    "model.summary()"
   ]
  },
  {
   "cell_type": "code",
   "execution_count": 9,
   "metadata": {
    "colab": {
     "base_uri": "https://localhost:8080/",
     "height": 105
    },
    "colab_type": "code",
    "id": "sORUQBMqtupx",
    "outputId": "ce2e250c-59d3-4adb-9e90-5e78097a284c"
   },
   "outputs": [
    {
     "name": "stderr",
     "output_type": "stream",
     "text": [
      "W0810 13:29:26.413968 140715171055488 deprecation_wrapper.py:119] From /usr/local/lib/python3.6/dist-packages/keras/optimizers.py:790: The name tf.train.Optimizer is deprecated. Please use tf.compat.v1.train.Optimizer instead.\n",
      "\n",
      "W0810 13:29:26.429116 140715171055488 deprecation_wrapper.py:119] From /usr/local/lib/python3.6/dist-packages/keras/backend/tensorflow_backend.py:3295: The name tf.log is deprecated. Please use tf.math.log instead.\n",
      "\n"
     ]
    }
   ],
   "source": [
    "model.compile(loss='categorical_crossentropy', optimizer=OPTIMIZER, metrics=['accuracy'])"
   ]
  },
  {
   "cell_type": "markdown",
   "metadata": {
    "colab_type": "text",
    "id": "t9g93DjDtup-"
   },
   "source": [
    "Categorical cross-entropy is suitable for multiclass labels prediction, also the default choice in association with softmax activation.\n",
    "\n",
    "Accuracy is the proportion of correct predictions w.r.t. the targets."
   ]
  },
  {
   "cell_type": "markdown",
   "metadata": {
    "colab_type": "text",
    "id": "ZgdR4DrntuqD"
   },
   "source": [
    "`epochs`: number of times the model is exposed to the training set.\n",
    "\n",
    "`batch_size`: the number of training instances observed before the optimizer performs a weight update"
   ]
  },
  {
   "cell_type": "code",
   "execution_count": 10,
   "metadata": {
    "colab": {
     "base_uri": "https://localhost:8080/",
     "height": 1000
    },
    "colab_type": "code",
    "id": "04DgljJstuqF",
    "outputId": "7395d213-899d-42f9-b55d-120b7e9ccc29"
   },
   "outputs": [
    {
     "name": "stderr",
     "output_type": "stream",
     "text": [
      "W0810 13:29:26.556343 140715171055488 deprecation.py:323] From /usr/local/lib/python3.6/dist-packages/tensorflow/python/ops/math_grad.py:1250: add_dispatch_support.<locals>.wrapper (from tensorflow.python.ops.array_ops) is deprecated and will be removed in a future version.\n",
      "Instructions for updating:\n",
      "Use tf.where in 2.0, which has the same broadcast rule as np.where\n",
      "W0810 13:29:26.597723 140715171055488 deprecation_wrapper.py:119] From /usr/local/lib/python3.6/dist-packages/keras/backend/tensorflow_backend.py:986: The name tf.assign_add is deprecated. Please use tf.compat.v1.assign_add instead.\n",
      "\n"
     ]
    },
    {
     "name": "stdout",
     "output_type": "stream",
     "text": [
      "Train on 48000 samples, validate on 12000 samples\n",
      "Epoch 1/200\n",
      "48000/48000 [==============================] - 5s 102us/step - loss: 1.3633 - acc: 0.6796 - val_loss: 0.8904 - val_acc: 0.8246\n",
      "Epoch 2/200\n",
      "48000/48000 [==============================] - 1s 23us/step - loss: 0.7913 - acc: 0.8272 - val_loss: 0.6572 - val_acc: 0.8546\n",
      "Epoch 3/200\n",
      "48000/48000 [==============================] - 1s 21us/step - loss: 0.6436 - acc: 0.8497 - val_loss: 0.5625 - val_acc: 0.8681\n",
      "Epoch 4/200\n",
      "48000/48000 [==============================] - 1s 22us/step - loss: 0.5717 - acc: 0.8602 - val_loss: 0.5098 - val_acc: 0.8765\n",
      "Epoch 5/200\n",
      "48000/48000 [==============================] - 1s 21us/step - loss: 0.5276 - acc: 0.8678 - val_loss: 0.4758 - val_acc: 0.8826\n",
      "Epoch 6/200\n",
      "48000/48000 [==============================] - 1s 22us/step - loss: 0.4973 - acc: 0.8726 - val_loss: 0.4515 - val_acc: 0.8866\n",
      "Epoch 7/200\n",
      "48000/48000 [==============================] - 1s 21us/step - loss: 0.4748 - acc: 0.8775 - val_loss: 0.4333 - val_acc: 0.8882\n",
      "Epoch 8/200\n",
      "48000/48000 [==============================] - 1s 21us/step - loss: 0.4574 - acc: 0.8803 - val_loss: 0.4189 - val_acc: 0.8920\n",
      "Epoch 9/200\n",
      "48000/48000 [==============================] - 1s 21us/step - loss: 0.4433 - acc: 0.8834 - val_loss: 0.4075 - val_acc: 0.8939\n",
      "Epoch 10/200\n",
      "48000/48000 [==============================] - 1s 21us/step - loss: 0.4317 - acc: 0.8850 - val_loss: 0.3977 - val_acc: 0.8966\n",
      "Epoch 11/200\n",
      "48000/48000 [==============================] - 1s 21us/step - loss: 0.4218 - acc: 0.8873 - val_loss: 0.3896 - val_acc: 0.8984\n",
      "Epoch 12/200\n",
      "48000/48000 [==============================] - 1s 21us/step - loss: 0.4134 - acc: 0.8888 - val_loss: 0.3827 - val_acc: 0.8995\n",
      "Epoch 13/200\n",
      "48000/48000 [==============================] - 1s 21us/step - loss: 0.4060 - acc: 0.8902 - val_loss: 0.3766 - val_acc: 0.9003\n",
      "Epoch 14/200\n",
      "48000/48000 [==============================] - 1s 21us/step - loss: 0.3995 - acc: 0.8918 - val_loss: 0.3712 - val_acc: 0.9013\n",
      "Epoch 15/200\n",
      "48000/48000 [==============================] - 1s 21us/step - loss: 0.3936 - acc: 0.8928 - val_loss: 0.3664 - val_acc: 0.9016\n",
      "Epoch 16/200\n",
      "48000/48000 [==============================] - 1s 21us/step - loss: 0.3884 - acc: 0.8945 - val_loss: 0.3621 - val_acc: 0.9031\n",
      "Epoch 17/200\n",
      "48000/48000 [==============================] - 1s 21us/step - loss: 0.3837 - acc: 0.8950 - val_loss: 0.3582 - val_acc: 0.9033\n",
      "Epoch 18/200\n",
      "48000/48000 [==============================] - 1s 21us/step - loss: 0.3794 - acc: 0.8962 - val_loss: 0.3546 - val_acc: 0.9039\n",
      "Epoch 19/200\n",
      "48000/48000 [==============================] - 1s 21us/step - loss: 0.3755 - acc: 0.8970 - val_loss: 0.3514 - val_acc: 0.9048\n",
      "Epoch 20/200\n",
      "48000/48000 [==============================] - 1s 21us/step - loss: 0.3718 - acc: 0.8979 - val_loss: 0.3485 - val_acc: 0.9053\n",
      "Epoch 21/200\n",
      "48000/48000 [==============================] - 1s 21us/step - loss: 0.3685 - acc: 0.8985 - val_loss: 0.3457 - val_acc: 0.9058\n",
      "Epoch 22/200\n",
      "48000/48000 [==============================] - 1s 21us/step - loss: 0.3653 - acc: 0.8995 - val_loss: 0.3431 - val_acc: 0.9058\n",
      "Epoch 23/200\n",
      "48000/48000 [==============================] - 1s 21us/step - loss: 0.3625 - acc: 0.8999 - val_loss: 0.3407 - val_acc: 0.9063\n",
      "Epoch 24/200\n",
      "48000/48000 [==============================] - 1s 21us/step - loss: 0.3598 - acc: 0.9008 - val_loss: 0.3385 - val_acc: 0.9070\n",
      "Epoch 25/200\n",
      "48000/48000 [==============================] - 1s 21us/step - loss: 0.3572 - acc: 0.9012 - val_loss: 0.3364 - val_acc: 0.9074\n",
      "Epoch 26/200\n",
      "48000/48000 [==============================] - 1s 22us/step - loss: 0.3548 - acc: 0.9019 - val_loss: 0.3345 - val_acc: 0.9084\n",
      "Epoch 27/200\n",
      "48000/48000 [==============================] - 1s 21us/step - loss: 0.3525 - acc: 0.9022 - val_loss: 0.3326 - val_acc: 0.9082\n",
      "Epoch 28/200\n",
      "48000/48000 [==============================] - 1s 21us/step - loss: 0.3504 - acc: 0.9032 - val_loss: 0.3311 - val_acc: 0.9090\n",
      "Epoch 29/200\n",
      "48000/48000 [==============================] - 1s 22us/step - loss: 0.3484 - acc: 0.9031 - val_loss: 0.3293 - val_acc: 0.9094\n",
      "Epoch 30/200\n",
      "48000/48000 [==============================] - 1s 21us/step - loss: 0.3465 - acc: 0.9041 - val_loss: 0.3277 - val_acc: 0.9097\n",
      "Epoch 31/200\n",
      "48000/48000 [==============================] - 1s 21us/step - loss: 0.3447 - acc: 0.9044 - val_loss: 0.3264 - val_acc: 0.9097\n",
      "Epoch 32/200\n",
      "48000/48000 [==============================] - 1s 21us/step - loss: 0.3430 - acc: 0.9047 - val_loss: 0.3249 - val_acc: 0.9097\n",
      "Epoch 33/200\n",
      "48000/48000 [==============================] - 1s 21us/step - loss: 0.3413 - acc: 0.9051 - val_loss: 0.3235 - val_acc: 0.9103\n",
      "Epoch 34/200\n",
      "48000/48000 [==============================] - 1s 21us/step - loss: 0.3397 - acc: 0.9056 - val_loss: 0.3222 - val_acc: 0.9104\n",
      "Epoch 35/200\n",
      "48000/48000 [==============================] - 1s 21us/step - loss: 0.3382 - acc: 0.9058 - val_loss: 0.3211 - val_acc: 0.9110\n",
      "Epoch 36/200\n",
      "48000/48000 [==============================] - 1s 22us/step - loss: 0.3368 - acc: 0.9062 - val_loss: 0.3198 - val_acc: 0.9110\n",
      "Epoch 37/200\n",
      "48000/48000 [==============================] - 1s 21us/step - loss: 0.3353 - acc: 0.9069 - val_loss: 0.3187 - val_acc: 0.9117\n",
      "Epoch 38/200\n",
      "48000/48000 [==============================] - 1s 21us/step - loss: 0.3340 - acc: 0.9075 - val_loss: 0.3177 - val_acc: 0.9120\n",
      "Epoch 39/200\n",
      "48000/48000 [==============================] - 1s 21us/step - loss: 0.3327 - acc: 0.9075 - val_loss: 0.3166 - val_acc: 0.9122\n",
      "Epoch 40/200\n",
      "48000/48000 [==============================] - 1s 21us/step - loss: 0.3314 - acc: 0.9078 - val_loss: 0.3159 - val_acc: 0.9118\n",
      "Epoch 41/200\n",
      "48000/48000 [==============================] - 1s 21us/step - loss: 0.3303 - acc: 0.9080 - val_loss: 0.3147 - val_acc: 0.9127\n",
      "Epoch 42/200\n",
      "48000/48000 [==============================] - 1s 21us/step - loss: 0.3291 - acc: 0.9084 - val_loss: 0.3138 - val_acc: 0.9132\n",
      "Epoch 43/200\n",
      "48000/48000 [==============================] - 1s 21us/step - loss: 0.3280 - acc: 0.9089 - val_loss: 0.3130 - val_acc: 0.9132\n",
      "Epoch 44/200\n",
      "48000/48000 [==============================] - 1s 21us/step - loss: 0.3270 - acc: 0.9091 - val_loss: 0.3121 - val_acc: 0.9132\n",
      "Epoch 45/200\n",
      "48000/48000 [==============================] - 1s 21us/step - loss: 0.3259 - acc: 0.9093 - val_loss: 0.3113 - val_acc: 0.9135\n",
      "Epoch 46/200\n",
      "48000/48000 [==============================] - 1s 21us/step - loss: 0.3249 - acc: 0.9095 - val_loss: 0.3105 - val_acc: 0.9137\n",
      "Epoch 47/200\n",
      "48000/48000 [==============================] - 1s 22us/step - loss: 0.3239 - acc: 0.9105 - val_loss: 0.3098 - val_acc: 0.9141\n",
      "Epoch 48/200\n",
      "48000/48000 [==============================] - 1s 21us/step - loss: 0.3230 - acc: 0.9105 - val_loss: 0.3090 - val_acc: 0.9146\n",
      "Epoch 49/200\n",
      "48000/48000 [==============================] - 1s 21us/step - loss: 0.3221 - acc: 0.9102 - val_loss: 0.3083 - val_acc: 0.9151\n",
      "Epoch 50/200\n",
      "48000/48000 [==============================] - 1s 21us/step - loss: 0.3212 - acc: 0.9109 - val_loss: 0.3075 - val_acc: 0.9150\n",
      "Epoch 51/200\n",
      "48000/48000 [==============================] - 1s 21us/step - loss: 0.3204 - acc: 0.9109 - val_loss: 0.3070 - val_acc: 0.9150\n",
      "Epoch 52/200\n",
      "48000/48000 [==============================] - 1s 21us/step - loss: 0.3195 - acc: 0.9112 - val_loss: 0.3063 - val_acc: 0.9148\n",
      "Epoch 53/200\n",
      "48000/48000 [==============================] - 1s 21us/step - loss: 0.3187 - acc: 0.9114 - val_loss: 0.3057 - val_acc: 0.9153\n",
      "Epoch 54/200\n",
      "48000/48000 [==============================] - 1s 21us/step - loss: 0.3180 - acc: 0.9117 - val_loss: 0.3050 - val_acc: 0.9148\n",
      "Epoch 55/200\n",
      "48000/48000 [==============================] - 1s 21us/step - loss: 0.3171 - acc: 0.9121 - val_loss: 0.3044 - val_acc: 0.9149\n",
      "Epoch 56/200\n",
      "48000/48000 [==============================] - 1s 21us/step - loss: 0.3164 - acc: 0.9121 - val_loss: 0.3037 - val_acc: 0.9156\n",
      "Epoch 57/200\n",
      "48000/48000 [==============================] - 1s 22us/step - loss: 0.3157 - acc: 0.9128 - val_loss: 0.3034 - val_acc: 0.9152\n",
      "Epoch 58/200\n",
      "48000/48000 [==============================] - 1s 21us/step - loss: 0.3149 - acc: 0.9121 - val_loss: 0.3029 - val_acc: 0.9148\n",
      "Epoch 59/200\n",
      "48000/48000 [==============================] - 1s 21us/step - loss: 0.3143 - acc: 0.9128 - val_loss: 0.3022 - val_acc: 0.9151\n",
      "Epoch 60/200\n",
      "48000/48000 [==============================] - 1s 21us/step - loss: 0.3136 - acc: 0.9129 - val_loss: 0.3016 - val_acc: 0.9161\n",
      "Epoch 61/200\n",
      "48000/48000 [==============================] - 1s 21us/step - loss: 0.3130 - acc: 0.9133 - val_loss: 0.3011 - val_acc: 0.9158\n",
      "Epoch 62/200\n",
      "48000/48000 [==============================] - 1s 21us/step - loss: 0.3123 - acc: 0.9131 - val_loss: 0.3007 - val_acc: 0.9151\n",
      "Epoch 63/200\n",
      "48000/48000 [==============================] - 1s 21us/step - loss: 0.3117 - acc: 0.9136 - val_loss: 0.3003 - val_acc: 0.9156\n",
      "Epoch 64/200\n",
      "48000/48000 [==============================] - 1s 21us/step - loss: 0.3110 - acc: 0.9137 - val_loss: 0.2997 - val_acc: 0.9158\n",
      "Epoch 65/200\n",
      "48000/48000 [==============================] - 1s 21us/step - loss: 0.3105 - acc: 0.9137 - val_loss: 0.2992 - val_acc: 0.9159\n",
      "Epoch 66/200\n",
      "48000/48000 [==============================] - 1s 21us/step - loss: 0.3098 - acc: 0.9138 - val_loss: 0.2988 - val_acc: 0.9161\n",
      "Epoch 67/200\n",
      "48000/48000 [==============================] - 1s 21us/step - loss: 0.3093 - acc: 0.9141 - val_loss: 0.2983 - val_acc: 0.9165\n",
      "Epoch 68/200\n",
      "48000/48000 [==============================] - 1s 21us/step - loss: 0.3087 - acc: 0.9139 - val_loss: 0.2979 - val_acc: 0.9166\n",
      "Epoch 69/200\n",
      "48000/48000 [==============================] - 1s 21us/step - loss: 0.3082 - acc: 0.9144 - val_loss: 0.2976 - val_acc: 0.9164\n",
      "Epoch 70/200\n",
      "48000/48000 [==============================] - 1s 21us/step - loss: 0.3077 - acc: 0.9145 - val_loss: 0.2971 - val_acc: 0.9166\n",
      "Epoch 71/200\n",
      "48000/48000 [==============================] - 1s 21us/step - loss: 0.3071 - acc: 0.9146 - val_loss: 0.2967 - val_acc: 0.9172\n",
      "Epoch 72/200\n",
      "48000/48000 [==============================] - 1s 21us/step - loss: 0.3066 - acc: 0.9147 - val_loss: 0.2964 - val_acc: 0.9167\n",
      "Epoch 73/200\n",
      "48000/48000 [==============================] - 1s 21us/step - loss: 0.3061 - acc: 0.9151 - val_loss: 0.2960 - val_acc: 0.9169\n",
      "Epoch 74/200\n",
      "48000/48000 [==============================] - 1s 21us/step - loss: 0.3056 - acc: 0.9150 - val_loss: 0.2956 - val_acc: 0.9173\n",
      "Epoch 75/200\n",
      "48000/48000 [==============================] - 1s 21us/step - loss: 0.3051 - acc: 0.9151 - val_loss: 0.2952 - val_acc: 0.9177\n",
      "Epoch 76/200\n",
      "48000/48000 [==============================] - 1s 22us/step - loss: 0.3046 - acc: 0.9152 - val_loss: 0.2950 - val_acc: 0.9173\n",
      "Epoch 77/200\n",
      "48000/48000 [==============================] - 1s 22us/step - loss: 0.3042 - acc: 0.9154 - val_loss: 0.2945 - val_acc: 0.9172\n",
      "Epoch 78/200\n",
      "48000/48000 [==============================] - 1s 22us/step - loss: 0.3037 - acc: 0.9154 - val_loss: 0.2942 - val_acc: 0.9176\n",
      "Epoch 79/200\n",
      "48000/48000 [==============================] - 1s 22us/step - loss: 0.3032 - acc: 0.9157 - val_loss: 0.2939 - val_acc: 0.9179\n",
      "Epoch 80/200\n",
      "48000/48000 [==============================] - 1s 22us/step - loss: 0.3028 - acc: 0.9156 - val_loss: 0.2936 - val_acc: 0.9177\n",
      "Epoch 81/200\n",
      "48000/48000 [==============================] - 1s 22us/step - loss: 0.3024 - acc: 0.9157 - val_loss: 0.2933 - val_acc: 0.9179\n",
      "Epoch 82/200\n",
      "48000/48000 [==============================] - 1s 22us/step - loss: 0.3019 - acc: 0.9157 - val_loss: 0.2930 - val_acc: 0.9178\n",
      "Epoch 83/200\n",
      "48000/48000 [==============================] - 1s 22us/step - loss: 0.3015 - acc: 0.9160 - val_loss: 0.2926 - val_acc: 0.9182\n",
      "Epoch 84/200\n",
      "48000/48000 [==============================] - 1s 21us/step - loss: 0.3011 - acc: 0.9161 - val_loss: 0.2924 - val_acc: 0.9179\n",
      "Epoch 85/200\n",
      "48000/48000 [==============================] - 1s 22us/step - loss: 0.3007 - acc: 0.9165 - val_loss: 0.2920 - val_acc: 0.9184\n",
      "Epoch 86/200\n",
      "48000/48000 [==============================] - 1s 21us/step - loss: 0.3003 - acc: 0.9164 - val_loss: 0.2918 - val_acc: 0.9185\n",
      "Epoch 87/200\n",
      "48000/48000 [==============================] - 1s 22us/step - loss: 0.2999 - acc: 0.9165 - val_loss: 0.2914 - val_acc: 0.9185\n",
      "Epoch 88/200\n",
      "48000/48000 [==============================] - 1s 23us/step - loss: 0.2995 - acc: 0.9166 - val_loss: 0.2911 - val_acc: 0.9188\n",
      "Epoch 89/200\n",
      "48000/48000 [==============================] - 1s 22us/step - loss: 0.2991 - acc: 0.9167 - val_loss: 0.2909 - val_acc: 0.9191\n",
      "Epoch 90/200\n",
      "48000/48000 [==============================] - 1s 22us/step - loss: 0.2988 - acc: 0.9169 - val_loss: 0.2906 - val_acc: 0.9191\n",
      "Epoch 91/200\n",
      "48000/48000 [==============================] - 1s 22us/step - loss: 0.2984 - acc: 0.9168 - val_loss: 0.2903 - val_acc: 0.9192\n",
      "Epoch 92/200\n",
      "48000/48000 [==============================] - 1s 21us/step - loss: 0.2981 - acc: 0.9170 - val_loss: 0.2901 - val_acc: 0.9196\n",
      "Epoch 93/200\n",
      "48000/48000 [==============================] - 1s 21us/step - loss: 0.2977 - acc: 0.9171 - val_loss: 0.2898 - val_acc: 0.9195\n",
      "Epoch 94/200\n",
      "48000/48000 [==============================] - 1s 22us/step - loss: 0.2973 - acc: 0.9172 - val_loss: 0.2895 - val_acc: 0.9196\n",
      "Epoch 95/200\n",
      "48000/48000 [==============================] - 1s 21us/step - loss: 0.2970 - acc: 0.9174 - val_loss: 0.2894 - val_acc: 0.9196\n",
      "Epoch 96/200\n",
      "48000/48000 [==============================] - 1s 21us/step - loss: 0.2967 - acc: 0.9174 - val_loss: 0.2891 - val_acc: 0.9198\n",
      "Epoch 97/200\n",
      "48000/48000 [==============================] - 1s 22us/step - loss: 0.2963 - acc: 0.9176 - val_loss: 0.2889 - val_acc: 0.9197\n",
      "Epoch 98/200\n",
      "48000/48000 [==============================] - 1s 22us/step - loss: 0.2960 - acc: 0.9174 - val_loss: 0.2886 - val_acc: 0.9202\n",
      "Epoch 99/200\n",
      "48000/48000 [==============================] - 1s 22us/step - loss: 0.2957 - acc: 0.9176 - val_loss: 0.2884 - val_acc: 0.9202\n",
      "Epoch 100/200\n",
      "48000/48000 [==============================] - 1s 22us/step - loss: 0.2953 - acc: 0.9178 - val_loss: 0.2882 - val_acc: 0.9200\n",
      "Epoch 101/200\n",
      "48000/48000 [==============================] - 1s 21us/step - loss: 0.2950 - acc: 0.9179 - val_loss: 0.2879 - val_acc: 0.9201\n",
      "Epoch 102/200\n",
      "48000/48000 [==============================] - 1s 21us/step - loss: 0.2947 - acc: 0.9180 - val_loss: 0.2877 - val_acc: 0.9204\n",
      "Epoch 103/200\n",
      "48000/48000 [==============================] - 1s 21us/step - loss: 0.2944 - acc: 0.9180 - val_loss: 0.2875 - val_acc: 0.9202\n",
      "Epoch 104/200\n",
      "48000/48000 [==============================] - 1s 21us/step - loss: 0.2941 - acc: 0.9184 - val_loss: 0.2873 - val_acc: 0.9202\n",
      "Epoch 105/200\n",
      "48000/48000 [==============================] - 1s 21us/step - loss: 0.2938 - acc: 0.9183 - val_loss: 0.2871 - val_acc: 0.9206\n",
      "Epoch 106/200\n",
      "48000/48000 [==============================] - 1s 21us/step - loss: 0.2935 - acc: 0.9183 - val_loss: 0.2868 - val_acc: 0.9202\n",
      "Epoch 107/200\n",
      "48000/48000 [==============================] - 1s 22us/step - loss: 0.2932 - acc: 0.9186 - val_loss: 0.2867 - val_acc: 0.9206\n",
      "Epoch 108/200\n",
      "48000/48000 [==============================] - 1s 22us/step - loss: 0.2929 - acc: 0.9185 - val_loss: 0.2864 - val_acc: 0.9208\n",
      "Epoch 109/200\n",
      "48000/48000 [==============================] - 1s 22us/step - loss: 0.2927 - acc: 0.9185 - val_loss: 0.2863 - val_acc: 0.9206\n",
      "Epoch 110/200\n",
      "48000/48000 [==============================] - 1s 22us/step - loss: 0.2923 - acc: 0.9187 - val_loss: 0.2860 - val_acc: 0.9204\n",
      "Epoch 111/200\n",
      "48000/48000 [==============================] - 1s 22us/step - loss: 0.2921 - acc: 0.9184 - val_loss: 0.2858 - val_acc: 0.9210\n",
      "Epoch 112/200\n",
      "48000/48000 [==============================] - 1s 21us/step - loss: 0.2918 - acc: 0.9187 - val_loss: 0.2857 - val_acc: 0.9207\n",
      "Epoch 113/200\n",
      "48000/48000 [==============================] - 1s 21us/step - loss: 0.2915 - acc: 0.9189 - val_loss: 0.2854 - val_acc: 0.9210\n",
      "Epoch 114/200\n",
      "48000/48000 [==============================] - 1s 21us/step - loss: 0.2913 - acc: 0.9188 - val_loss: 0.2853 - val_acc: 0.9211\n",
      "Epoch 115/200\n",
      "48000/48000 [==============================] - 1s 21us/step - loss: 0.2910 - acc: 0.9189 - val_loss: 0.2852 - val_acc: 0.9205\n",
      "Epoch 116/200\n",
      "48000/48000 [==============================] - 1s 21us/step - loss: 0.2908 - acc: 0.9189 - val_loss: 0.2849 - val_acc: 0.9213\n",
      "Epoch 117/200\n",
      "48000/48000 [==============================] - 1s 21us/step - loss: 0.2905 - acc: 0.9193 - val_loss: 0.2847 - val_acc: 0.9213\n",
      "Epoch 118/200\n",
      "48000/48000 [==============================] - 1s 22us/step - loss: 0.2902 - acc: 0.9192 - val_loss: 0.2846 - val_acc: 0.9212\n",
      "Epoch 119/200\n",
      "48000/48000 [==============================] - 1s 22us/step - loss: 0.2900 - acc: 0.9191 - val_loss: 0.2844 - val_acc: 0.9212\n",
      "Epoch 120/200\n",
      "48000/48000 [==============================] - 1s 21us/step - loss: 0.2898 - acc: 0.9192 - val_loss: 0.2842 - val_acc: 0.9212\n",
      "Epoch 121/200\n",
      "48000/48000 [==============================] - 1s 22us/step - loss: 0.2895 - acc: 0.9191 - val_loss: 0.2841 - val_acc: 0.9212\n",
      "Epoch 122/200\n",
      "48000/48000 [==============================] - 1s 22us/step - loss: 0.2892 - acc: 0.9192 - val_loss: 0.2840 - val_acc: 0.9212\n",
      "Epoch 123/200\n",
      "48000/48000 [==============================] - 1s 22us/step - loss: 0.2890 - acc: 0.9194 - val_loss: 0.2838 - val_acc: 0.9211\n",
      "Epoch 124/200\n",
      "48000/48000 [==============================] - 1s 21us/step - loss: 0.2888 - acc: 0.9197 - val_loss: 0.2837 - val_acc: 0.9210\n",
      "Epoch 125/200\n",
      "48000/48000 [==============================] - 1s 21us/step - loss: 0.2885 - acc: 0.9193 - val_loss: 0.2835 - val_acc: 0.9207\n",
      "Epoch 126/200\n",
      "48000/48000 [==============================] - 1s 22us/step - loss: 0.2883 - acc: 0.9197 - val_loss: 0.2834 - val_acc: 0.9217\n",
      "Epoch 127/200\n",
      "48000/48000 [==============================] - 1s 21us/step - loss: 0.2881 - acc: 0.9194 - val_loss: 0.2832 - val_acc: 0.9212\n",
      "Epoch 128/200\n",
      "48000/48000 [==============================] - 1s 21us/step - loss: 0.2879 - acc: 0.9194 - val_loss: 0.2830 - val_acc: 0.9210\n",
      "Epoch 129/200\n",
      "48000/48000 [==============================] - 1s 22us/step - loss: 0.2876 - acc: 0.9196 - val_loss: 0.2828 - val_acc: 0.9217\n",
      "Epoch 130/200\n",
      "48000/48000 [==============================] - 1s 21us/step - loss: 0.2874 - acc: 0.9197 - val_loss: 0.2826 - val_acc: 0.9216\n",
      "Epoch 131/200\n",
      "48000/48000 [==============================] - 1s 21us/step - loss: 0.2871 - acc: 0.9200 - val_loss: 0.2827 - val_acc: 0.9211\n",
      "Epoch 132/200\n",
      "48000/48000 [==============================] - 1s 21us/step - loss: 0.2870 - acc: 0.9197 - val_loss: 0.2824 - val_acc: 0.9213\n",
      "Epoch 133/200\n",
      "48000/48000 [==============================] - 1s 21us/step - loss: 0.2868 - acc: 0.9198 - val_loss: 0.2823 - val_acc: 0.9216\n",
      "Epoch 134/200\n",
      "48000/48000 [==============================] - 1s 21us/step - loss: 0.2866 - acc: 0.9199 - val_loss: 0.2822 - val_acc: 0.9214\n",
      "Epoch 135/200\n",
      "48000/48000 [==============================] - 1s 21us/step - loss: 0.2863 - acc: 0.9203 - val_loss: 0.2820 - val_acc: 0.9213\n",
      "Epoch 136/200\n",
      "48000/48000 [==============================] - 1s 21us/step - loss: 0.2861 - acc: 0.9196 - val_loss: 0.2818 - val_acc: 0.9215\n",
      "Epoch 137/200\n",
      "48000/48000 [==============================] - 1s 21us/step - loss: 0.2859 - acc: 0.9198 - val_loss: 0.2818 - val_acc: 0.9217\n",
      "Epoch 138/200\n",
      "48000/48000 [==============================] - 1s 21us/step - loss: 0.2857 - acc: 0.9203 - val_loss: 0.2815 - val_acc: 0.9218\n",
      "Epoch 139/200\n",
      "48000/48000 [==============================] - 1s 21us/step - loss: 0.2855 - acc: 0.9203 - val_loss: 0.2814 - val_acc: 0.9215\n",
      "Epoch 140/200\n",
      "48000/48000 [==============================] - 1s 23us/step - loss: 0.2853 - acc: 0.9201 - val_loss: 0.2812 - val_acc: 0.9216\n",
      "Epoch 141/200\n",
      "48000/48000 [==============================] - 1s 21us/step - loss: 0.2852 - acc: 0.9204 - val_loss: 0.2811 - val_acc: 0.9217\n",
      "Epoch 142/200\n",
      "48000/48000 [==============================] - 1s 21us/step - loss: 0.2849 - acc: 0.9201 - val_loss: 0.2810 - val_acc: 0.9217\n",
      "Epoch 143/200\n",
      "48000/48000 [==============================] - 1s 21us/step - loss: 0.2848 - acc: 0.9205 - val_loss: 0.2809 - val_acc: 0.9219\n",
      "Epoch 144/200\n",
      "48000/48000 [==============================] - 1s 21us/step - loss: 0.2846 - acc: 0.9208 - val_loss: 0.2808 - val_acc: 0.9217\n",
      "Epoch 145/200\n",
      "48000/48000 [==============================] - 1s 21us/step - loss: 0.2844 - acc: 0.9207 - val_loss: 0.2806 - val_acc: 0.9221\n",
      "Epoch 146/200\n",
      "48000/48000 [==============================] - 1s 21us/step - loss: 0.2841 - acc: 0.9206 - val_loss: 0.2806 - val_acc: 0.9220\n",
      "Epoch 147/200\n",
      "48000/48000 [==============================] - 1s 21us/step - loss: 0.2840 - acc: 0.9207 - val_loss: 0.2804 - val_acc: 0.9217\n",
      "Epoch 148/200\n",
      "48000/48000 [==============================] - 1s 21us/step - loss: 0.2838 - acc: 0.9209 - val_loss: 0.2803 - val_acc: 0.9218\n",
      "Epoch 149/200\n",
      "48000/48000 [==============================] - 1s 21us/step - loss: 0.2836 - acc: 0.9208 - val_loss: 0.2802 - val_acc: 0.9216\n",
      "Epoch 150/200\n",
      "48000/48000 [==============================] - 1s 22us/step - loss: 0.2835 - acc: 0.9210 - val_loss: 0.2800 - val_acc: 0.9225\n",
      "Epoch 151/200\n",
      "48000/48000 [==============================] - 1s 21us/step - loss: 0.2833 - acc: 0.9210 - val_loss: 0.2799 - val_acc: 0.9226\n",
      "Epoch 152/200\n",
      "48000/48000 [==============================] - 1s 21us/step - loss: 0.2831 - acc: 0.9211 - val_loss: 0.2798 - val_acc: 0.9222\n",
      "Epoch 153/200\n",
      "48000/48000 [==============================] - 1s 21us/step - loss: 0.2829 - acc: 0.9207 - val_loss: 0.2797 - val_acc: 0.9224\n",
      "Epoch 154/200\n",
      "48000/48000 [==============================] - 1s 21us/step - loss: 0.2827 - acc: 0.9209 - val_loss: 0.2796 - val_acc: 0.9222\n",
      "Epoch 155/200\n",
      "48000/48000 [==============================] - 1s 21us/step - loss: 0.2826 - acc: 0.9208 - val_loss: 0.2795 - val_acc: 0.9225\n",
      "Epoch 156/200\n",
      "48000/48000 [==============================] - 1s 21us/step - loss: 0.2824 - acc: 0.9210 - val_loss: 0.2794 - val_acc: 0.9224\n",
      "Epoch 157/200\n",
      "48000/48000 [==============================] - 1s 21us/step - loss: 0.2822 - acc: 0.9210 - val_loss: 0.2793 - val_acc: 0.9224\n",
      "Epoch 158/200\n",
      "48000/48000 [==============================] - 1s 21us/step - loss: 0.2821 - acc: 0.9214 - val_loss: 0.2792 - val_acc: 0.9226\n",
      "Epoch 159/200\n",
      "48000/48000 [==============================] - 1s 21us/step - loss: 0.2819 - acc: 0.9214 - val_loss: 0.2791 - val_acc: 0.9226\n",
      "Epoch 160/200\n",
      "48000/48000 [==============================] - 1s 22us/step - loss: 0.2817 - acc: 0.9213 - val_loss: 0.2790 - val_acc: 0.9225\n",
      "Epoch 161/200\n",
      "48000/48000 [==============================] - 1s 21us/step - loss: 0.2816 - acc: 0.9214 - val_loss: 0.2789 - val_acc: 0.9222\n",
      "Epoch 162/200\n",
      "48000/48000 [==============================] - 1s 21us/step - loss: 0.2814 - acc: 0.9215 - val_loss: 0.2788 - val_acc: 0.9227\n",
      "Epoch 163/200\n",
      "48000/48000 [==============================] - 1s 21us/step - loss: 0.2812 - acc: 0.9213 - val_loss: 0.2787 - val_acc: 0.9225\n",
      "Epoch 164/200\n",
      "48000/48000 [==============================] - 1s 21us/step - loss: 0.2811 - acc: 0.9216 - val_loss: 0.2786 - val_acc: 0.9225\n",
      "Epoch 165/200\n",
      "48000/48000 [==============================] - 1s 21us/step - loss: 0.2809 - acc: 0.9215 - val_loss: 0.2785 - val_acc: 0.9227\n",
      "Epoch 166/200\n",
      "48000/48000 [==============================] - 1s 21us/step - loss: 0.2807 - acc: 0.9216 - val_loss: 0.2784 - val_acc: 0.9225\n",
      "Epoch 167/200\n",
      "48000/48000 [==============================] - 1s 21us/step - loss: 0.2806 - acc: 0.9217 - val_loss: 0.2784 - val_acc: 0.9227\n",
      "Epoch 168/200\n",
      "48000/48000 [==============================] - 1s 21us/step - loss: 0.2804 - acc: 0.9219 - val_loss: 0.2782 - val_acc: 0.9228\n",
      "Epoch 169/200\n",
      "48000/48000 [==============================] - 1s 21us/step - loss: 0.2803 - acc: 0.9216 - val_loss: 0.2782 - val_acc: 0.9227\n",
      "Epoch 170/200\n",
      "48000/48000 [==============================] - 1s 22us/step - loss: 0.2801 - acc: 0.9216 - val_loss: 0.2781 - val_acc: 0.9227\n",
      "Epoch 171/200\n",
      "48000/48000 [==============================] - 1s 22us/step - loss: 0.2800 - acc: 0.9220 - val_loss: 0.2780 - val_acc: 0.9226\n",
      "Epoch 172/200\n",
      "48000/48000 [==============================] - 1s 21us/step - loss: 0.2798 - acc: 0.9218 - val_loss: 0.2778 - val_acc: 0.9231\n",
      "Epoch 173/200\n",
      "48000/48000 [==============================] - 1s 21us/step - loss: 0.2797 - acc: 0.9217 - val_loss: 0.2778 - val_acc: 0.9229\n",
      "Epoch 174/200\n",
      "48000/48000 [==============================] - 1s 21us/step - loss: 0.2796 - acc: 0.9217 - val_loss: 0.2777 - val_acc: 0.9227\n",
      "Epoch 175/200\n",
      "48000/48000 [==============================] - 1s 21us/step - loss: 0.2794 - acc: 0.9218 - val_loss: 0.2776 - val_acc: 0.9232\n",
      "Epoch 176/200\n",
      "48000/48000 [==============================] - 1s 22us/step - loss: 0.2793 - acc: 0.9220 - val_loss: 0.2775 - val_acc: 0.9232\n",
      "Epoch 177/200\n",
      "48000/48000 [==============================] - 1s 21us/step - loss: 0.2791 - acc: 0.9219 - val_loss: 0.2774 - val_acc: 0.9234\n",
      "Epoch 178/200\n",
      "48000/48000 [==============================] - 1s 21us/step - loss: 0.2790 - acc: 0.9221 - val_loss: 0.2774 - val_acc: 0.9228\n",
      "Epoch 179/200\n",
      "48000/48000 [==============================] - 1s 21us/step - loss: 0.2788 - acc: 0.9221 - val_loss: 0.2773 - val_acc: 0.9232\n",
      "Epoch 180/200\n",
      "48000/48000 [==============================] - 1s 22us/step - loss: 0.2787 - acc: 0.9221 - val_loss: 0.2771 - val_acc: 0.9235\n",
      "Epoch 181/200\n",
      "48000/48000 [==============================] - 1s 22us/step - loss: 0.2785 - acc: 0.9223 - val_loss: 0.2770 - val_acc: 0.9232\n",
      "Epoch 182/200\n",
      "48000/48000 [==============================] - 1s 22us/step - loss: 0.2784 - acc: 0.9220 - val_loss: 0.2769 - val_acc: 0.9231\n",
      "Epoch 183/200\n",
      "48000/48000 [==============================] - 1s 21us/step - loss: 0.2783 - acc: 0.9223 - val_loss: 0.2769 - val_acc: 0.9231\n",
      "Epoch 184/200\n",
      "48000/48000 [==============================] - 1s 21us/step - loss: 0.2781 - acc: 0.9223 - val_loss: 0.2768 - val_acc: 0.9230\n",
      "Epoch 185/200\n",
      "48000/48000 [==============================] - 1s 21us/step - loss: 0.2780 - acc: 0.9224 - val_loss: 0.2767 - val_acc: 0.9233\n",
      "Epoch 186/200\n",
      "48000/48000 [==============================] - 1s 21us/step - loss: 0.2779 - acc: 0.9223 - val_loss: 0.2766 - val_acc: 0.9236\n",
      "Epoch 187/200\n",
      "48000/48000 [==============================] - 1s 21us/step - loss: 0.2777 - acc: 0.9224 - val_loss: 0.2766 - val_acc: 0.9233\n",
      "Epoch 188/200\n",
      "48000/48000 [==============================] - 1s 21us/step - loss: 0.2776 - acc: 0.9226 - val_loss: 0.2765 - val_acc: 0.9236\n",
      "Epoch 189/200\n",
      "48000/48000 [==============================] - 1s 21us/step - loss: 0.2775 - acc: 0.9225 - val_loss: 0.2764 - val_acc: 0.9235\n",
      "Epoch 190/200\n",
      "48000/48000 [==============================] - 1s 21us/step - loss: 0.2773 - acc: 0.9225 - val_loss: 0.2764 - val_acc: 0.9235\n",
      "Epoch 191/200\n",
      "48000/48000 [==============================] - 1s 21us/step - loss: 0.2772 - acc: 0.9225 - val_loss: 0.2763 - val_acc: 0.9237\n",
      "Epoch 192/200\n",
      "48000/48000 [==============================] - 1s 22us/step - loss: 0.2770 - acc: 0.9226 - val_loss: 0.2762 - val_acc: 0.9238\n",
      "Epoch 193/200\n",
      "48000/48000 [==============================] - 1s 21us/step - loss: 0.2770 - acc: 0.9226 - val_loss: 0.2761 - val_acc: 0.9237\n",
      "Epoch 194/200\n",
      "48000/48000 [==============================] - 1s 21us/step - loss: 0.2768 - acc: 0.9226 - val_loss: 0.2761 - val_acc: 0.9236\n",
      "Epoch 195/200\n",
      "48000/48000 [==============================] - 1s 22us/step - loss: 0.2767 - acc: 0.9231 - val_loss: 0.2760 - val_acc: 0.9239\n",
      "Epoch 196/200\n",
      "48000/48000 [==============================] - 1s 22us/step - loss: 0.2766 - acc: 0.9226 - val_loss: 0.2758 - val_acc: 0.9241\n",
      "Epoch 197/200\n",
      "48000/48000 [==============================] - 1s 22us/step - loss: 0.2765 - acc: 0.9229 - val_loss: 0.2758 - val_acc: 0.9242\n",
      "Epoch 198/200\n",
      "48000/48000 [==============================] - 1s 22us/step - loss: 0.2763 - acc: 0.9231 - val_loss: 0.2758 - val_acc: 0.9236\n",
      "Epoch 199/200\n",
      "48000/48000 [==============================] - 1s 21us/step - loss: 0.2762 - acc: 0.9229 - val_loss: 0.2757 - val_acc: 0.9241\n",
      "Epoch 200/200\n",
      "48000/48000 [==============================] - 1s 22us/step - loss: 0.2761 - acc: 0.9230 - val_loss: 0.2756 - val_acc: 0.9241\n"
     ]
    }
   ],
   "source": [
    "history = model.fit(X_train, Y_train,\n",
    "                   batch_size=BATCH_SIZE, epochs=NB_EPOCH,\n",
    "                   verbose=VERBOSE, validation_split=VALIDATION_SPLIT)"
   ]
  },
  {
   "cell_type": "code",
   "execution_count": 11,
   "metadata": {
    "colab": {
     "base_uri": "https://localhost:8080/",
     "height": 34
    },
    "colab_type": "code",
    "id": "DEf9ZTzctuqS",
    "outputId": "1b9684b7-1631-44a1-a583-42646aafbf60"
   },
   "outputs": [
    {
     "name": "stdout",
     "output_type": "stream",
     "text": [
      "10000/10000 [==============================] - 0s 34us/step\n"
     ]
    }
   ],
   "source": [
    "score = model.evaluate(X_test, Y_test, verbose=VERBOSE)"
   ]
  },
  {
   "cell_type": "code",
   "execution_count": 12,
   "metadata": {
    "colab": {
     "base_uri": "https://localhost:8080/",
     "height": 51
    },
    "colab_type": "code",
    "id": "d5LKDMzvtuqe",
    "outputId": "588f1437-0310-4699-da1a-12daf62995d6"
   },
   "outputs": [
    {
     "name": "stdout",
     "output_type": "stream",
     "text": [
      "Test score: 0.27738585587739945 \n",
      "Test Accuracy: 0.9227\n"
     ]
    }
   ],
   "source": [
    "print('Test score:', score[0], '\\nTest Accuracy:', score[1])"
   ]
  },
  {
   "cell_type": "markdown",
   "metadata": {
    "colab_type": "text",
    "id": "-PK04zDDtuqp"
   },
   "source": [
    "# Improving the net with hidden layers"
   ]
  },
  {
   "cell_type": "code",
   "execution_count": null,
   "metadata": {
    "colab": {},
    "colab_type": "code",
    "id": "-thpbgeUtuqt"
   },
   "outputs": [],
   "source": [
    "NB_EPOCH = 20\n",
    "BATCH_SIZE = 128\n",
    "N_HIDDEN = 128"
   ]
  },
  {
   "cell_type": "code",
   "execution_count": 14,
   "metadata": {
    "colab": {
     "base_uri": "https://localhost:8080/",
     "height": 340
    },
    "colab_type": "code",
    "id": "UI5z9yn3tuq9",
    "outputId": "d1f668da-833f-4f17-e018-600577fc9485"
   },
   "outputs": [
    {
     "name": "stdout",
     "output_type": "stream",
     "text": [
      "_________________________________________________________________\n",
      "Layer (type)                 Output Shape              Param #   \n",
      "=================================================================\n",
      "dense_3 (Dense)              (None, 128)               100480    \n",
      "_________________________________________________________________\n",
      "activation_2 (Activation)    (None, 128)               0         \n",
      "_________________________________________________________________\n",
      "dense_4 (Dense)              (None, 128)               16512     \n",
      "_________________________________________________________________\n",
      "activation_3 (Activation)    (None, 128)               0         \n",
      "_________________________________________________________________\n",
      "dense_5 (Dense)              (None, 10)                1290      \n",
      "_________________________________________________________________\n",
      "activation_4 (Activation)    (None, 10)                0         \n",
      "=================================================================\n",
      "Total params: 118,282\n",
      "Trainable params: 118,282\n",
      "Non-trainable params: 0\n",
      "_________________________________________________________________\n"
     ]
    }
   ],
   "source": [
    "model_2 = Sequential()\n",
    "model_2.add(Dense(N_HIDDEN, input_shape=(RESHAPED, )))\n",
    "model_2.add(Activation('relu'))\n",
    "model_2.add(Dense(N_HIDDEN))\n",
    "model_2.add(Activation('relu'))\n",
    "model_2.add(Dense(NB_CLASSES))\n",
    "model_2.add(Activation('softmax'))\n",
    "model_2.summary()"
   ]
  },
  {
   "cell_type": "code",
   "execution_count": null,
   "metadata": {
    "colab": {},
    "colab_type": "code",
    "id": "8I7vHhlYturK"
   },
   "outputs": [],
   "source": [
    "model_2.compile(loss='categorical_crossentropy', optimizer=OPTIMIZER, metrics=['accuracy'])"
   ]
  },
  {
   "cell_type": "code",
   "execution_count": 16,
   "metadata": {
    "colab": {
     "base_uri": "https://localhost:8080/",
     "height": 714
    },
    "colab_type": "code",
    "id": "55TrIg0MturV",
    "outputId": "f209a41b-9b5d-45cc-d3ba-f3a4e0a71a67"
   },
   "outputs": [
    {
     "name": "stdout",
     "output_type": "stream",
     "text": [
      "Train on 48000 samples, validate on 12000 samples\n",
      "Epoch 1/20\n",
      "48000/48000 [==============================] - 1s 28us/step - loss: 1.5210 - acc: 0.6090 - val_loss: 0.7768 - val_acc: 0.8377\n",
      "Epoch 2/20\n",
      "48000/48000 [==============================] - 1s 25us/step - loss: 0.6144 - acc: 0.8474 - val_loss: 0.4609 - val_acc: 0.8807\n",
      "Epoch 3/20\n",
      "48000/48000 [==============================] - 1s 24us/step - loss: 0.4454 - acc: 0.8794 - val_loss: 0.3784 - val_acc: 0.8962\n",
      "Epoch 4/20\n",
      "48000/48000 [==============================] - 1s 25us/step - loss: 0.3836 - acc: 0.8925 - val_loss: 0.3394 - val_acc: 0.9053\n",
      "Epoch 5/20\n",
      "48000/48000 [==============================] - 1s 24us/step - loss: 0.3489 - acc: 0.9008 - val_loss: 0.3155 - val_acc: 0.9101\n",
      "Epoch 6/20\n",
      "48000/48000 [==============================] - 1s 24us/step - loss: 0.3247 - acc: 0.9076 - val_loss: 0.2966 - val_acc: 0.9162\n",
      "Epoch 7/20\n",
      "48000/48000 [==============================] - 1s 24us/step - loss: 0.3066 - acc: 0.9128 - val_loss: 0.2816 - val_acc: 0.9196\n",
      "Epoch 8/20\n",
      "48000/48000 [==============================] - 1s 24us/step - loss: 0.2911 - acc: 0.9178 - val_loss: 0.2702 - val_acc: 0.9229\n",
      "Epoch 9/20\n",
      "48000/48000 [==============================] - 1s 24us/step - loss: 0.2778 - acc: 0.9212 - val_loss: 0.2600 - val_acc: 0.9259\n",
      "Epoch 10/20\n",
      "48000/48000 [==============================] - 1s 24us/step - loss: 0.2665 - acc: 0.9244 - val_loss: 0.2500 - val_acc: 0.9278\n",
      "Epoch 11/20\n",
      "48000/48000 [==============================] - 1s 24us/step - loss: 0.2558 - acc: 0.9277 - val_loss: 0.2413 - val_acc: 0.9313\n",
      "Epoch 12/20\n",
      "48000/48000 [==============================] - 1s 24us/step - loss: 0.2464 - acc: 0.9299 - val_loss: 0.2346 - val_acc: 0.9334\n",
      "Epoch 13/20\n",
      "48000/48000 [==============================] - 1s 24us/step - loss: 0.2378 - acc: 0.9328 - val_loss: 0.2267 - val_acc: 0.9358\n",
      "Epoch 14/20\n",
      "48000/48000 [==============================] - 1s 24us/step - loss: 0.2298 - acc: 0.9348 - val_loss: 0.2202 - val_acc: 0.9386\n",
      "Epoch 15/20\n",
      "48000/48000 [==============================] - 1s 24us/step - loss: 0.2225 - acc: 0.9362 - val_loss: 0.2145 - val_acc: 0.9394\n",
      "Epoch 16/20\n",
      "48000/48000 [==============================] - 1s 24us/step - loss: 0.2155 - acc: 0.9387 - val_loss: 0.2090 - val_acc: 0.9413\n",
      "Epoch 17/20\n",
      "48000/48000 [==============================] - 1s 25us/step - loss: 0.2091 - acc: 0.9407 - val_loss: 0.2052 - val_acc: 0.9430\n",
      "Epoch 18/20\n",
      "48000/48000 [==============================] - 1s 24us/step - loss: 0.2028 - acc: 0.9423 - val_loss: 0.2007 - val_acc: 0.9439\n",
      "Epoch 19/20\n",
      "48000/48000 [==============================] - 1s 24us/step - loss: 0.1973 - acc: 0.9435 - val_loss: 0.1949 - val_acc: 0.9453\n",
      "Epoch 20/20\n",
      "48000/48000 [==============================] - 1s 25us/step - loss: 0.1919 - acc: 0.9457 - val_loss: 0.1917 - val_acc: 0.9460\n"
     ]
    }
   ],
   "source": [
    "history_2 = model_2.fit(X_train, Y_train, batch_size=BATCH_SIZE, epochs=NB_EPOCH, validation_split=VALIDATION_SPLIT, verbose=VERBOSE)"
   ]
  },
  {
   "cell_type": "code",
   "execution_count": 17,
   "metadata": {
    "colab": {
     "base_uri": "https://localhost:8080/",
     "height": 68
    },
    "colab_type": "code",
    "id": "fHaJQ5kPturh",
    "outputId": "cb4fffa6-1be2-4814-a07d-5d298282f5d2"
   },
   "outputs": [
    {
     "name": "stdout",
     "output_type": "stream",
     "text": [
      "10000/10000 [==============================] - 0s 37us/step\n",
      "Test Score: 0.18835640647411347 \n",
      "Test Accuracy: 0.9468\n"
     ]
    }
   ],
   "source": [
    "score_2 = model_2.evaluate(X_test, Y_test, verbose=VERBOSE)\n",
    "print('Test Score:', score_2[0], '\\nTest Accuracy:', score_2[1])"
   ]
  },
  {
   "cell_type": "markdown",
   "metadata": {
    "colab_type": "text",
    "id": "EKeGS2wOturs"
   },
   "source": [
    "# Further Improving with dropout"
   ]
  },
  {
   "cell_type": "code",
   "execution_count": 7,
   "metadata": {
    "colab": {},
    "colab_type": "code",
    "id": "Oeyrh4pwturw"
   },
   "outputs": [],
   "source": [
    "from keras.layers.core import Dropout"
   ]
  },
  {
   "cell_type": "code",
   "execution_count": 8,
   "metadata": {
    "colab": {},
    "colab_type": "code",
    "id": "SdxgkJBDtusJ"
   },
   "outputs": [],
   "source": [
    "NB_EPOCH = 250\n",
    "BATCH_SIZE = 128\n",
    "DROPOUT = 0.3"
   ]
  },
  {
   "cell_type": "code",
   "execution_count": 9,
   "metadata": {
    "colab": {
     "base_uri": "https://localhost:8080/",
     "height": 479
    },
    "colab_type": "code",
    "id": "rzWSP6bPtusb",
    "outputId": "40b56fdb-18ac-449e-a548-d4aa3bf886de"
   },
   "outputs": [
    {
     "name": "stdout",
     "output_type": "stream",
     "text": [
      "_________________________________________________________________\n",
      "Layer (type)                 Output Shape              Param #   \n",
      "=================================================================\n",
      "dense_1 (Dense)              (None, 128)               100480    \n",
      "_________________________________________________________________\n",
      "activation_1 (Activation)    (None, 128)               0         \n",
      "_________________________________________________________________\n",
      "dropout_1 (Dropout)          (None, 128)               0         \n",
      "_________________________________________________________________\n",
      "dense_2 (Dense)              (None, 128)               16512     \n",
      "_________________________________________________________________\n",
      "activation_2 (Activation)    (None, 128)               0         \n",
      "_________________________________________________________________\n",
      "dropout_2 (Dropout)          (None, 128)               0         \n",
      "_________________________________________________________________\n",
      "dense_3 (Dense)              (None, 10)                1290      \n",
      "_________________________________________________________________\n",
      "activation_3 (Activation)    (None, 10)                0         \n",
      "=================================================================\n",
      "Total params: 118,282\n",
      "Trainable params: 118,282\n",
      "Non-trainable params: 0\n",
      "_________________________________________________________________\n"
     ]
    }
   ],
   "source": [
    "model_3 = Sequential()\n",
    "model_3.add(Dense(N_HIDDEN, input_shape=(RESHAPED, )))\n",
    "model_3.add(Activation('relu'))\n",
    "model_3.add(Dropout(DROPOUT))\n",
    "model_3.add(Dense(N_HIDDEN))\n",
    "model_3.add(Activation('relu'))\n",
    "model_3.add(Dropout(DROPOUT))\n",
    "model_3.add(Dense(NB_CLASSES))\n",
    "model_3.add(Activation('softmax'))\n",
    "model_3.summary()"
   ]
  },
  {
   "cell_type": "code",
   "execution_count": 10,
   "metadata": {
    "colab": {},
    "colab_type": "code",
    "id": "Hn3gMdd-tusn"
   },
   "outputs": [],
   "source": [
    "model_3.compile(optimizer=OPTIMIZER, loss='categorical_crossentropy', metrics=['accuracy'])"
   ]
  },
  {
   "cell_type": "code",
   "execution_count": 22,
   "metadata": {
    "colab": {
     "base_uri": "https://localhost:8080/",
     "height": 1000
    },
    "colab_type": "code",
    "id": "YiRoKFe8tusy",
    "outputId": "6aa2818e-a73d-4c28-f3dc-a3072d4570a6"
   },
   "outputs": [
    {
     "name": "stdout",
     "output_type": "stream",
     "text": [
      "Train on 48000 samples, validate on 12000 samples\n",
      "Epoch 1/250\n",
      "48000/48000 [==============================] - 1s 31us/step - loss: 1.7375 - acc: 0.4357 - val_loss: 0.9426 - val_acc: 0.8053\n",
      "Epoch 2/250\n",
      "48000/48000 [==============================] - 1s 27us/step - loss: 0.9446 - acc: 0.7098 - val_loss: 0.5363 - val_acc: 0.8677\n",
      "Epoch 3/250\n",
      "48000/48000 [==============================] - 1s 26us/step - loss: 0.7021 - acc: 0.7827 - val_loss: 0.4217 - val_acc: 0.8886\n",
      "Epoch 4/250\n",
      "48000/48000 [==============================] - 1s 26us/step - loss: 0.5921 - acc: 0.8193 - val_loss: 0.3668 - val_acc: 0.9008\n",
      "Epoch 5/250\n",
      "48000/48000 [==============================] - 1s 26us/step - loss: 0.5322 - acc: 0.8384 - val_loss: 0.3336 - val_acc: 0.9053\n",
      "Epoch 6/250\n",
      "48000/48000 [==============================] - 1s 26us/step - loss: 0.4904 - acc: 0.8529 - val_loss: 0.3133 - val_acc: 0.9102\n",
      "Epoch 7/250\n",
      "48000/48000 [==============================] - 1s 28us/step - loss: 0.4582 - acc: 0.8625 - val_loss: 0.2924 - val_acc: 0.9153\n",
      "Epoch 8/250\n",
      "48000/48000 [==============================] - 1s 28us/step - loss: 0.4335 - acc: 0.8716 - val_loss: 0.2800 - val_acc: 0.9191\n",
      "Epoch 9/250\n",
      "48000/48000 [==============================] - 1s 28us/step - loss: 0.4085 - acc: 0.8797 - val_loss: 0.2679 - val_acc: 0.9218\n",
      "Epoch 10/250\n",
      "48000/48000 [==============================] - 1s 28us/step - loss: 0.3948 - acc: 0.8840 - val_loss: 0.2571 - val_acc: 0.9249\n",
      "Epoch 11/250\n",
      "48000/48000 [==============================] - 1s 28us/step - loss: 0.3785 - acc: 0.8880 - val_loss: 0.2481 - val_acc: 0.9269\n",
      "Epoch 12/250\n",
      "48000/48000 [==============================] - 1s 27us/step - loss: 0.3604 - acc: 0.8944 - val_loss: 0.2387 - val_acc: 0.9295\n",
      "Epoch 13/250\n",
      "48000/48000 [==============================] - 1s 27us/step - loss: 0.3485 - acc: 0.8984 - val_loss: 0.2321 - val_acc: 0.9325\n",
      "Epoch 14/250\n",
      "48000/48000 [==============================] - 1s 26us/step - loss: 0.3407 - acc: 0.8994 - val_loss: 0.2252 - val_acc: 0.9325\n",
      "Epoch 15/250\n",
      "48000/48000 [==============================] - 1s 26us/step - loss: 0.3307 - acc: 0.9044 - val_loss: 0.2199 - val_acc: 0.9345\n",
      "Epoch 16/250\n",
      "48000/48000 [==============================] - 1s 27us/step - loss: 0.3212 - acc: 0.9074 - val_loss: 0.2124 - val_acc: 0.9376\n",
      "Epoch 17/250\n",
      "48000/48000 [==============================] - 1s 26us/step - loss: 0.3108 - acc: 0.9096 - val_loss: 0.2066 - val_acc: 0.9402\n",
      "Epoch 18/250\n",
      "48000/48000 [==============================] - 1s 26us/step - loss: 0.3044 - acc: 0.9112 - val_loss: 0.2028 - val_acc: 0.9412\n",
      "Epoch 19/250\n",
      "48000/48000 [==============================] - 1s 26us/step - loss: 0.2970 - acc: 0.9133 - val_loss: 0.1976 - val_acc: 0.9424\n",
      "Epoch 20/250\n",
      "48000/48000 [==============================] - 1s 26us/step - loss: 0.2908 - acc: 0.9136 - val_loss: 0.1927 - val_acc: 0.9435\n",
      "Epoch 21/250\n",
      "48000/48000 [==============================] - 1s 26us/step - loss: 0.2823 - acc: 0.9187 - val_loss: 0.1875 - val_acc: 0.9444\n",
      "Epoch 22/250\n",
      "48000/48000 [==============================] - 1s 27us/step - loss: 0.2781 - acc: 0.9204 - val_loss: 0.1853 - val_acc: 0.9457\n",
      "Epoch 23/250\n",
      "48000/48000 [==============================] - 1s 28us/step - loss: 0.2713 - acc: 0.9215 - val_loss: 0.1813 - val_acc: 0.9469\n",
      "Epoch 24/250\n",
      "48000/48000 [==============================] - 1s 28us/step - loss: 0.2666 - acc: 0.9221 - val_loss: 0.1773 - val_acc: 0.9486\n",
      "Epoch 25/250\n",
      "48000/48000 [==============================] - 1s 28us/step - loss: 0.2610 - acc: 0.9245 - val_loss: 0.1740 - val_acc: 0.9493\n",
      "Epoch 26/250\n",
      "48000/48000 [==============================] - 1s 27us/step - loss: 0.2522 - acc: 0.9256 - val_loss: 0.1712 - val_acc: 0.9503\n",
      "Epoch 27/250\n",
      "48000/48000 [==============================] - 1s 27us/step - loss: 0.2512 - acc: 0.9265 - val_loss: 0.1677 - val_acc: 0.9515\n",
      "Epoch 28/250\n",
      "48000/48000 [==============================] - 1s 27us/step - loss: 0.2447 - acc: 0.9276 - val_loss: 0.1655 - val_acc: 0.9517\n",
      "Epoch 29/250\n",
      "48000/48000 [==============================] - 1s 27us/step - loss: 0.2397 - acc: 0.9296 - val_loss: 0.1626 - val_acc: 0.9527\n",
      "Epoch 30/250\n",
      "48000/48000 [==============================] - 1s 27us/step - loss: 0.2395 - acc: 0.9302 - val_loss: 0.1599 - val_acc: 0.9536\n",
      "Epoch 31/250\n",
      "48000/48000 [==============================] - 1s 27us/step - loss: 0.2339 - acc: 0.9318 - val_loss: 0.1577 - val_acc: 0.9549\n",
      "Epoch 32/250\n",
      "48000/48000 [==============================] - 1s 26us/step - loss: 0.2313 - acc: 0.9322 - val_loss: 0.1560 - val_acc: 0.9549\n",
      "Epoch 33/250\n",
      "48000/48000 [==============================] - 1s 26us/step - loss: 0.2226 - acc: 0.9350 - val_loss: 0.1530 - val_acc: 0.9561\n",
      "Epoch 34/250\n",
      "48000/48000 [==============================] - 1s 26us/step - loss: 0.2231 - acc: 0.9337 - val_loss: 0.1504 - val_acc: 0.9567\n",
      "Epoch 35/250\n",
      "48000/48000 [==============================] - 1s 26us/step - loss: 0.2195 - acc: 0.9355 - val_loss: 0.1494 - val_acc: 0.9578\n",
      "Epoch 36/250\n",
      "48000/48000 [==============================] - 1s 27us/step - loss: 0.2182 - acc: 0.9360 - val_loss: 0.1476 - val_acc: 0.9583\n",
      "Epoch 37/250\n",
      "48000/48000 [==============================] - 1s 26us/step - loss: 0.2116 - acc: 0.9374 - val_loss: 0.1450 - val_acc: 0.9586\n",
      "Epoch 38/250\n",
      "48000/48000 [==============================] - 1s 26us/step - loss: 0.2104 - acc: 0.9385 - val_loss: 0.1435 - val_acc: 0.9588\n",
      "Epoch 39/250\n",
      "48000/48000 [==============================] - 1s 27us/step - loss: 0.2067 - acc: 0.9394 - val_loss: 0.1417 - val_acc: 0.9588\n",
      "Epoch 40/250\n",
      "48000/48000 [==============================] - 1s 27us/step - loss: 0.2033 - acc: 0.9401 - val_loss: 0.1401 - val_acc: 0.9593\n",
      "Epoch 41/250\n",
      "48000/48000 [==============================] - 1s 28us/step - loss: 0.2028 - acc: 0.9419 - val_loss: 0.1393 - val_acc: 0.9591\n",
      "Epoch 42/250\n",
      "48000/48000 [==============================] - 1s 27us/step - loss: 0.2001 - acc: 0.9421 - val_loss: 0.1378 - val_acc: 0.9599\n",
      "Epoch 43/250\n",
      "48000/48000 [==============================] - 1s 27us/step - loss: 0.1973 - acc: 0.9427 - val_loss: 0.1356 - val_acc: 0.9612\n",
      "Epoch 44/250\n",
      "48000/48000 [==============================] - 1s 27us/step - loss: 0.1936 - acc: 0.9437 - val_loss: 0.1340 - val_acc: 0.9612\n",
      "Epoch 45/250\n",
      "48000/48000 [==============================] - 1s 27us/step - loss: 0.1921 - acc: 0.9440 - val_loss: 0.1335 - val_acc: 0.9611\n",
      "Epoch 46/250\n",
      "48000/48000 [==============================] - 1s 27us/step - loss: 0.1877 - acc: 0.9454 - val_loss: 0.1323 - val_acc: 0.9616\n",
      "Epoch 47/250\n",
      "48000/48000 [==============================] - 1s 26us/step - loss: 0.1872 - acc: 0.9450 - val_loss: 0.1309 - val_acc: 0.9613\n",
      "Epoch 48/250\n",
      "48000/48000 [==============================] - 1s 26us/step - loss: 0.1833 - acc: 0.9466 - val_loss: 0.1296 - val_acc: 0.9618\n",
      "Epoch 49/250\n",
      "48000/48000 [==============================] - 1s 26us/step - loss: 0.1852 - acc: 0.9450 - val_loss: 0.1286 - val_acc: 0.9628\n",
      "Epoch 50/250\n",
      "48000/48000 [==============================] - 1s 27us/step - loss: 0.1841 - acc: 0.9450 - val_loss: 0.1273 - val_acc: 0.9628\n",
      "Epoch 51/250\n",
      "48000/48000 [==============================] - 1s 27us/step - loss: 0.1786 - acc: 0.9475 - val_loss: 0.1258 - val_acc: 0.9626\n",
      "Epoch 52/250\n",
      "48000/48000 [==============================] - 1s 26us/step - loss: 0.1779 - acc: 0.9486 - val_loss: 0.1262 - val_acc: 0.9626\n",
      "Epoch 53/250\n",
      "48000/48000 [==============================] - 1s 26us/step - loss: 0.1772 - acc: 0.9489 - val_loss: 0.1241 - val_acc: 0.9634\n",
      "Epoch 54/250\n",
      "48000/48000 [==============================] - 1s 26us/step - loss: 0.1737 - acc: 0.9489 - val_loss: 0.1228 - val_acc: 0.9635\n",
      "Epoch 55/250\n",
      "48000/48000 [==============================] - 1s 26us/step - loss: 0.1729 - acc: 0.9485 - val_loss: 0.1225 - val_acc: 0.9634\n",
      "Epoch 56/250\n",
      "48000/48000 [==============================] - 1s 26us/step - loss: 0.1701 - acc: 0.9492 - val_loss: 0.1215 - val_acc: 0.9635\n",
      "Epoch 57/250\n",
      "48000/48000 [==============================] - 1s 26us/step - loss: 0.1702 - acc: 0.9500 - val_loss: 0.1200 - val_acc: 0.9642\n",
      "Epoch 58/250\n",
      "48000/48000 [==============================] - 1s 26us/step - loss: 0.1684 - acc: 0.9501 - val_loss: 0.1194 - val_acc: 0.9647\n",
      "Epoch 59/250\n",
      "48000/48000 [==============================] - 1s 27us/step - loss: 0.1646 - acc: 0.9504 - val_loss: 0.1186 - val_acc: 0.9652\n",
      "Epoch 60/250\n",
      "48000/48000 [==============================] - 1s 26us/step - loss: 0.1633 - acc: 0.9517 - val_loss: 0.1178 - val_acc: 0.9653\n",
      "Epoch 61/250\n",
      "48000/48000 [==============================] - 1s 26us/step - loss: 0.1605 - acc: 0.9520 - val_loss: 0.1173 - val_acc: 0.9657\n",
      "Epoch 62/250\n",
      "48000/48000 [==============================] - 1s 26us/step - loss: 0.1622 - acc: 0.9515 - val_loss: 0.1159 - val_acc: 0.9664\n",
      "Epoch 63/250\n",
      "48000/48000 [==============================] - 1s 26us/step - loss: 0.1601 - acc: 0.9533 - val_loss: 0.1154 - val_acc: 0.9666\n",
      "Epoch 64/250\n",
      "48000/48000 [==============================] - 1s 26us/step - loss: 0.1601 - acc: 0.9529 - val_loss: 0.1144 - val_acc: 0.9663\n",
      "Epoch 65/250\n",
      "48000/48000 [==============================] - 1s 26us/step - loss: 0.1556 - acc: 0.9541 - val_loss: 0.1138 - val_acc: 0.9670\n",
      "Epoch 66/250\n",
      "48000/48000 [==============================] - 1s 26us/step - loss: 0.1549 - acc: 0.9544 - val_loss: 0.1131 - val_acc: 0.9673\n",
      "Epoch 67/250\n",
      "48000/48000 [==============================] - 1s 27us/step - loss: 0.1525 - acc: 0.9560 - val_loss: 0.1125 - val_acc: 0.9674\n",
      "Epoch 68/250\n",
      "48000/48000 [==============================] - 1s 27us/step - loss: 0.1529 - acc: 0.9552 - val_loss: 0.1124 - val_acc: 0.9676\n",
      "Epoch 69/250\n",
      "48000/48000 [==============================] - 1s 27us/step - loss: 0.1527 - acc: 0.9545 - val_loss: 0.1109 - val_acc: 0.9679\n",
      "Epoch 70/250\n",
      "48000/48000 [==============================] - 1s 26us/step - loss: 0.1498 - acc: 0.9555 - val_loss: 0.1109 - val_acc: 0.9675\n",
      "Epoch 71/250\n",
      "48000/48000 [==============================] - 1s 27us/step - loss: 0.1494 - acc: 0.9550 - val_loss: 0.1106 - val_acc: 0.9681\n",
      "Epoch 72/250\n",
      "48000/48000 [==============================] - 1s 26us/step - loss: 0.1481 - acc: 0.9557 - val_loss: 0.1094 - val_acc: 0.9684\n",
      "Epoch 73/250\n",
      "48000/48000 [==============================] - 1s 26us/step - loss: 0.1457 - acc: 0.9570 - val_loss: 0.1088 - val_acc: 0.9684\n",
      "Epoch 74/250\n",
      "48000/48000 [==============================] - 1s 26us/step - loss: 0.1444 - acc: 0.9579 - val_loss: 0.1082 - val_acc: 0.9684\n",
      "Epoch 75/250\n",
      "48000/48000 [==============================] - 1s 26us/step - loss: 0.1440 - acc: 0.9573 - val_loss: 0.1077 - val_acc: 0.9689\n",
      "Epoch 76/250\n",
      "48000/48000 [==============================] - 1s 26us/step - loss: 0.1420 - acc: 0.9576 - val_loss: 0.1070 - val_acc: 0.9693\n",
      "Epoch 77/250\n",
      "48000/48000 [==============================] - 1s 26us/step - loss: 0.1409 - acc: 0.9578 - val_loss: 0.1068 - val_acc: 0.9693\n",
      "Epoch 78/250\n",
      "48000/48000 [==============================] - 1s 26us/step - loss: 0.1408 - acc: 0.9583 - val_loss: 0.1063 - val_acc: 0.9696\n",
      "Epoch 79/250\n",
      "48000/48000 [==============================] - 1s 26us/step - loss: 0.1418 - acc: 0.9576 - val_loss: 0.1056 - val_acc: 0.9693\n",
      "Epoch 80/250\n",
      "48000/48000 [==============================] - 1s 26us/step - loss: 0.1412 - acc: 0.9584 - val_loss: 0.1052 - val_acc: 0.9697\n",
      "Epoch 81/250\n",
      "48000/48000 [==============================] - 1s 26us/step - loss: 0.1363 - acc: 0.9591 - val_loss: 0.1048 - val_acc: 0.9695\n",
      "Epoch 82/250\n",
      "48000/48000 [==============================] - 1s 26us/step - loss: 0.1376 - acc: 0.9593 - val_loss: 0.1043 - val_acc: 0.9699\n",
      "Epoch 83/250\n",
      "48000/48000 [==============================] - 1s 26us/step - loss: 0.1389 - acc: 0.9588 - val_loss: 0.1037 - val_acc: 0.9697\n",
      "Epoch 84/250\n",
      "48000/48000 [==============================] - 1s 26us/step - loss: 0.1356 - acc: 0.9594 - val_loss: 0.1036 - val_acc: 0.9701\n",
      "Epoch 85/250\n",
      "48000/48000 [==============================] - 1s 26us/step - loss: 0.1333 - acc: 0.9603 - val_loss: 0.1029 - val_acc: 0.9705\n",
      "Epoch 86/250\n",
      "48000/48000 [==============================] - 1s 26us/step - loss: 0.1320 - acc: 0.9599 - val_loss: 0.1021 - val_acc: 0.9703\n",
      "Epoch 87/250\n",
      "48000/48000 [==============================] - 1s 26us/step - loss: 0.1339 - acc: 0.9596 - val_loss: 0.1016 - val_acc: 0.9708\n",
      "Epoch 88/250\n",
      "48000/48000 [==============================] - 1s 26us/step - loss: 0.1295 - acc: 0.9621 - val_loss: 0.1012 - val_acc: 0.9709\n",
      "Epoch 89/250\n",
      "48000/48000 [==============================] - 1s 26us/step - loss: 0.1309 - acc: 0.9606 - val_loss: 0.1017 - val_acc: 0.9702\n",
      "Epoch 90/250\n",
      "48000/48000 [==============================] - 1s 26us/step - loss: 0.1298 - acc: 0.9612 - val_loss: 0.1008 - val_acc: 0.9709\n",
      "Epoch 91/250\n",
      "48000/48000 [==============================] - 1s 26us/step - loss: 0.1287 - acc: 0.9623 - val_loss: 0.1010 - val_acc: 0.9706\n",
      "Epoch 92/250\n",
      "48000/48000 [==============================] - 1s 26us/step - loss: 0.1284 - acc: 0.9617 - val_loss: 0.1008 - val_acc: 0.9708\n",
      "Epoch 93/250\n",
      "48000/48000 [==============================] - 1s 27us/step - loss: 0.1275 - acc: 0.9622 - val_loss: 0.1002 - val_acc: 0.9712\n",
      "Epoch 94/250\n",
      "48000/48000 [==============================] - 1s 26us/step - loss: 0.1276 - acc: 0.9616 - val_loss: 0.0994 - val_acc: 0.9715\n",
      "Epoch 95/250\n",
      "48000/48000 [==============================] - 1s 27us/step - loss: 0.1241 - acc: 0.9626 - val_loss: 0.0990 - val_acc: 0.9717\n",
      "Epoch 96/250\n",
      "48000/48000 [==============================] - 1s 27us/step - loss: 0.1260 - acc: 0.9625 - val_loss: 0.0984 - val_acc: 0.9717\n",
      "Epoch 97/250\n",
      "48000/48000 [==============================] - 1s 26us/step - loss: 0.1257 - acc: 0.9624 - val_loss: 0.0982 - val_acc: 0.9717\n",
      "Epoch 98/250\n",
      "48000/48000 [==============================] - 1s 27us/step - loss: 0.1219 - acc: 0.9631 - val_loss: 0.0974 - val_acc: 0.9721\n",
      "Epoch 99/250\n",
      "48000/48000 [==============================] - 1s 27us/step - loss: 0.1222 - acc: 0.9642 - val_loss: 0.0973 - val_acc: 0.9721\n",
      "Epoch 100/250\n",
      "48000/48000 [==============================] - 1s 27us/step - loss: 0.1206 - acc: 0.9639 - val_loss: 0.0970 - val_acc: 0.9725\n",
      "Epoch 101/250\n",
      "48000/48000 [==============================] - 1s 27us/step - loss: 0.1179 - acc: 0.9651 - val_loss: 0.0963 - val_acc: 0.9720\n",
      "Epoch 102/250\n",
      "48000/48000 [==============================] - 1s 27us/step - loss: 0.1189 - acc: 0.9650 - val_loss: 0.0961 - val_acc: 0.9722\n",
      "Epoch 103/250\n",
      "48000/48000 [==============================] - 1s 27us/step - loss: 0.1196 - acc: 0.9644 - val_loss: 0.0958 - val_acc: 0.9724\n",
      "Epoch 104/250\n",
      "48000/48000 [==============================] - 1s 27us/step - loss: 0.1182 - acc: 0.9647 - val_loss: 0.0954 - val_acc: 0.9726\n",
      "Epoch 105/250\n",
      "48000/48000 [==============================] - 1s 27us/step - loss: 0.1199 - acc: 0.9635 - val_loss: 0.0960 - val_acc: 0.9720\n",
      "Epoch 106/250\n",
      "48000/48000 [==============================] - 1s 27us/step - loss: 0.1177 - acc: 0.9660 - val_loss: 0.0953 - val_acc: 0.9727\n",
      "Epoch 107/250\n",
      "48000/48000 [==============================] - 1s 27us/step - loss: 0.1167 - acc: 0.9651 - val_loss: 0.0952 - val_acc: 0.9727\n",
      "Epoch 108/250\n",
      "48000/48000 [==============================] - 1s 26us/step - loss: 0.1166 - acc: 0.9652 - val_loss: 0.0949 - val_acc: 0.9727\n",
      "Epoch 109/250\n",
      "48000/48000 [==============================] - 1s 27us/step - loss: 0.1153 - acc: 0.9655 - val_loss: 0.0944 - val_acc: 0.9727\n",
      "Epoch 110/250\n",
      "48000/48000 [==============================] - 1s 27us/step - loss: 0.1144 - acc: 0.9654 - val_loss: 0.0937 - val_acc: 0.9729\n",
      "Epoch 111/250\n",
      "48000/48000 [==============================] - 1s 26us/step - loss: 0.1134 - acc: 0.9664 - val_loss: 0.0944 - val_acc: 0.9727\n",
      "Epoch 112/250\n",
      "48000/48000 [==============================] - 1s 26us/step - loss: 0.1101 - acc: 0.9671 - val_loss: 0.0939 - val_acc: 0.9732\n",
      "Epoch 113/250\n",
      "48000/48000 [==============================] - 1s 26us/step - loss: 0.1131 - acc: 0.9664 - val_loss: 0.0935 - val_acc: 0.9730\n",
      "Epoch 114/250\n",
      "48000/48000 [==============================] - 1s 26us/step - loss: 0.1115 - acc: 0.9666 - val_loss: 0.0931 - val_acc: 0.9734\n",
      "Epoch 115/250\n",
      "48000/48000 [==============================] - 1s 26us/step - loss: 0.1102 - acc: 0.9667 - val_loss: 0.0926 - val_acc: 0.9735\n",
      "Epoch 116/250\n",
      "48000/48000 [==============================] - 1s 26us/step - loss: 0.1078 - acc: 0.9673 - val_loss: 0.0931 - val_acc: 0.9734\n",
      "Epoch 117/250\n",
      "48000/48000 [==============================] - 1s 26us/step - loss: 0.1109 - acc: 0.9665 - val_loss: 0.0924 - val_acc: 0.9732\n",
      "Epoch 118/250\n",
      "48000/48000 [==============================] - 1s 27us/step - loss: 0.1073 - acc: 0.9679 - val_loss: 0.0923 - val_acc: 0.9732\n",
      "Epoch 119/250\n",
      "48000/48000 [==============================] - 1s 27us/step - loss: 0.1101 - acc: 0.9657 - val_loss: 0.0923 - val_acc: 0.9739\n",
      "Epoch 120/250\n",
      "48000/48000 [==============================] - 1s 26us/step - loss: 0.1066 - acc: 0.9682 - val_loss: 0.0922 - val_acc: 0.9735\n",
      "Epoch 121/250\n",
      "48000/48000 [==============================] - 1s 26us/step - loss: 0.1077 - acc: 0.9679 - val_loss: 0.0915 - val_acc: 0.9739\n",
      "Epoch 122/250\n",
      "48000/48000 [==============================] - 1s 27us/step - loss: 0.1074 - acc: 0.9676 - val_loss: 0.0916 - val_acc: 0.9737\n",
      "Epoch 123/250\n",
      "48000/48000 [==============================] - 1s 26us/step - loss: 0.1045 - acc: 0.9681 - val_loss: 0.0916 - val_acc: 0.9734\n",
      "Epoch 124/250\n",
      "48000/48000 [==============================] - 1s 27us/step - loss: 0.1043 - acc: 0.9685 - val_loss: 0.0910 - val_acc: 0.9736\n",
      "Epoch 125/250\n",
      "48000/48000 [==============================] - 1s 27us/step - loss: 0.1042 - acc: 0.9685 - val_loss: 0.0914 - val_acc: 0.9735\n",
      "Epoch 126/250\n",
      "48000/48000 [==============================] - 1s 27us/step - loss: 0.1059 - acc: 0.9683 - val_loss: 0.0908 - val_acc: 0.9734\n",
      "Epoch 127/250\n",
      "48000/48000 [==============================] - 1s 26us/step - loss: 0.1037 - acc: 0.9685 - val_loss: 0.0903 - val_acc: 0.9739\n",
      "Epoch 128/250\n",
      "48000/48000 [==============================] - 1s 26us/step - loss: 0.1032 - acc: 0.9687 - val_loss: 0.0900 - val_acc: 0.9743\n",
      "Epoch 129/250\n",
      "48000/48000 [==============================] - 1s 26us/step - loss: 0.0995 - acc: 0.9701 - val_loss: 0.0908 - val_acc: 0.9738\n",
      "Epoch 130/250\n",
      "48000/48000 [==============================] - 1s 27us/step - loss: 0.1041 - acc: 0.9686 - val_loss: 0.0900 - val_acc: 0.9744\n",
      "Epoch 131/250\n",
      "48000/48000 [==============================] - 1s 27us/step - loss: 0.1020 - acc: 0.9690 - val_loss: 0.0901 - val_acc: 0.9739\n",
      "Epoch 132/250\n",
      "48000/48000 [==============================] - 1s 26us/step - loss: 0.1018 - acc: 0.9690 - val_loss: 0.0899 - val_acc: 0.9740\n",
      "Epoch 133/250\n",
      "48000/48000 [==============================] - 1s 26us/step - loss: 0.1003 - acc: 0.9691 - val_loss: 0.0892 - val_acc: 0.9745\n",
      "Epoch 134/250\n",
      "48000/48000 [==============================] - 1s 27us/step - loss: 0.0999 - acc: 0.9694 - val_loss: 0.0891 - val_acc: 0.9742\n",
      "Epoch 135/250\n",
      "48000/48000 [==============================] - 1s 27us/step - loss: 0.1008 - acc: 0.9702 - val_loss: 0.0895 - val_acc: 0.9739\n",
      "Epoch 136/250\n",
      "48000/48000 [==============================] - 1s 26us/step - loss: 0.0985 - acc: 0.9699 - val_loss: 0.0892 - val_acc: 0.9737\n",
      "Epoch 137/250\n",
      "48000/48000 [==============================] - 1s 26us/step - loss: 0.0972 - acc: 0.9703 - val_loss: 0.0888 - val_acc: 0.9742\n",
      "Epoch 138/250\n",
      "48000/48000 [==============================] - 1s 27us/step - loss: 0.0974 - acc: 0.9703 - val_loss: 0.0886 - val_acc: 0.9744\n",
      "Epoch 139/250\n",
      "48000/48000 [==============================] - 1s 27us/step - loss: 0.0990 - acc: 0.9701 - val_loss: 0.0886 - val_acc: 0.9747\n",
      "Epoch 140/250\n",
      "48000/48000 [==============================] - 1s 26us/step - loss: 0.0993 - acc: 0.9702 - val_loss: 0.0882 - val_acc: 0.9742\n",
      "Epoch 141/250\n",
      "48000/48000 [==============================] - 1s 26us/step - loss: 0.0985 - acc: 0.9702 - val_loss: 0.0879 - val_acc: 0.9747\n",
      "Epoch 142/250\n",
      "48000/48000 [==============================] - 1s 26us/step - loss: 0.0978 - acc: 0.9703 - val_loss: 0.0879 - val_acc: 0.9749\n",
      "Epoch 143/250\n",
      "48000/48000 [==============================] - 1s 27us/step - loss: 0.0962 - acc: 0.9706 - val_loss: 0.0878 - val_acc: 0.9749\n",
      "Epoch 144/250\n",
      "48000/48000 [==============================] - 1s 27us/step - loss: 0.0938 - acc: 0.9712 - val_loss: 0.0880 - val_acc: 0.9748\n",
      "Epoch 145/250\n",
      "48000/48000 [==============================] - 1s 27us/step - loss: 0.0927 - acc: 0.9714 - val_loss: 0.0881 - val_acc: 0.9747\n",
      "Epoch 146/250\n",
      "48000/48000 [==============================] - 1s 28us/step - loss: 0.0941 - acc: 0.9714 - val_loss: 0.0874 - val_acc: 0.9747\n",
      "Epoch 147/250\n",
      "48000/48000 [==============================] - 1s 28us/step - loss: 0.0938 - acc: 0.9711 - val_loss: 0.0873 - val_acc: 0.9748\n",
      "Epoch 148/250\n",
      "48000/48000 [==============================] - 1s 27us/step - loss: 0.0934 - acc: 0.9714 - val_loss: 0.0873 - val_acc: 0.9747\n",
      "Epoch 149/250\n",
      "48000/48000 [==============================] - 1s 27us/step - loss: 0.0929 - acc: 0.9719 - val_loss: 0.0868 - val_acc: 0.9742\n",
      "Epoch 150/250\n",
      "48000/48000 [==============================] - 1s 27us/step - loss: 0.0926 - acc: 0.9719 - val_loss: 0.0871 - val_acc: 0.9748\n",
      "Epoch 151/250\n",
      "48000/48000 [==============================] - 1s 26us/step - loss: 0.0919 - acc: 0.9715 - val_loss: 0.0868 - val_acc: 0.9752\n",
      "Epoch 152/250\n",
      "48000/48000 [==============================] - 1s 27us/step - loss: 0.0920 - acc: 0.9714 - val_loss: 0.0866 - val_acc: 0.9751\n",
      "Epoch 153/250\n",
      "48000/48000 [==============================] - 1s 26us/step - loss: 0.0929 - acc: 0.9711 - val_loss: 0.0866 - val_acc: 0.9750\n",
      "Epoch 154/250\n",
      "48000/48000 [==============================] - 1s 27us/step - loss: 0.0921 - acc: 0.9717 - val_loss: 0.0862 - val_acc: 0.9753\n",
      "Epoch 155/250\n",
      "48000/48000 [==============================] - 1s 26us/step - loss: 0.0923 - acc: 0.9722 - val_loss: 0.0872 - val_acc: 0.9750\n",
      "Epoch 156/250\n",
      "48000/48000 [==============================] - 1s 27us/step - loss: 0.0904 - acc: 0.9728 - val_loss: 0.0870 - val_acc: 0.9748\n",
      "Epoch 157/250\n",
      "48000/48000 [==============================] - 1s 27us/step - loss: 0.0890 - acc: 0.9734 - val_loss: 0.0867 - val_acc: 0.9749\n",
      "Epoch 158/250\n",
      "48000/48000 [==============================] - 1s 27us/step - loss: 0.0896 - acc: 0.9728 - val_loss: 0.0866 - val_acc: 0.9752\n",
      "Epoch 159/250\n",
      "48000/48000 [==============================] - 1s 27us/step - loss: 0.0909 - acc: 0.9720 - val_loss: 0.0867 - val_acc: 0.9751\n",
      "Epoch 160/250\n",
      "48000/48000 [==============================] - 1s 27us/step - loss: 0.0868 - acc: 0.9731 - val_loss: 0.0859 - val_acc: 0.9756\n",
      "Epoch 161/250\n",
      "48000/48000 [==============================] - 1s 27us/step - loss: 0.0917 - acc: 0.9722 - val_loss: 0.0859 - val_acc: 0.9753\n",
      "Epoch 162/250\n",
      "48000/48000 [==============================] - 1s 27us/step - loss: 0.0863 - acc: 0.9736 - val_loss: 0.0858 - val_acc: 0.9756\n",
      "Epoch 163/250\n",
      "48000/48000 [==============================] - 1s 26us/step - loss: 0.0881 - acc: 0.9734 - val_loss: 0.0857 - val_acc: 0.9753\n",
      "Epoch 164/250\n",
      "48000/48000 [==============================] - 1s 26us/step - loss: 0.0871 - acc: 0.9738 - val_loss: 0.0853 - val_acc: 0.9755\n",
      "Epoch 165/250\n",
      "48000/48000 [==============================] - 1s 26us/step - loss: 0.0866 - acc: 0.9732 - val_loss: 0.0862 - val_acc: 0.9757\n",
      "Epoch 166/250\n",
      "48000/48000 [==============================] - 1s 26us/step - loss: 0.0857 - acc: 0.9738 - val_loss: 0.0859 - val_acc: 0.9755\n",
      "Epoch 167/250\n",
      "48000/48000 [==============================] - 1s 26us/step - loss: 0.0847 - acc: 0.9737 - val_loss: 0.0858 - val_acc: 0.9757\n",
      "Epoch 168/250\n",
      "48000/48000 [==============================] - 1s 26us/step - loss: 0.0864 - acc: 0.9735 - val_loss: 0.0847 - val_acc: 0.9755\n",
      "Epoch 169/250\n",
      "48000/48000 [==============================] - 1s 27us/step - loss: 0.0854 - acc: 0.9746 - val_loss: 0.0851 - val_acc: 0.9748\n",
      "Epoch 170/250\n",
      "48000/48000 [==============================] - 1s 27us/step - loss: 0.0855 - acc: 0.9739 - val_loss: 0.0847 - val_acc: 0.9753\n",
      "Epoch 171/250\n",
      "48000/48000 [==============================] - 1s 26us/step - loss: 0.0857 - acc: 0.9745 - val_loss: 0.0845 - val_acc: 0.9751\n",
      "Epoch 172/250\n",
      "48000/48000 [==============================] - 1s 26us/step - loss: 0.0843 - acc: 0.9735 - val_loss: 0.0850 - val_acc: 0.9748\n",
      "Epoch 173/250\n",
      "48000/48000 [==============================] - 1s 27us/step - loss: 0.0824 - acc: 0.9745 - val_loss: 0.0841 - val_acc: 0.9755\n",
      "Epoch 174/250\n",
      "48000/48000 [==============================] - 1s 27us/step - loss: 0.0828 - acc: 0.9744 - val_loss: 0.0848 - val_acc: 0.9752\n",
      "Epoch 175/250\n",
      "48000/48000 [==============================] - 1s 27us/step - loss: 0.0829 - acc: 0.9750 - val_loss: 0.0842 - val_acc: 0.9757\n",
      "Epoch 176/250\n",
      "48000/48000 [==============================] - 1s 26us/step - loss: 0.0842 - acc: 0.9735 - val_loss: 0.0835 - val_acc: 0.9760\n",
      "Epoch 177/250\n",
      "48000/48000 [==============================] - 1s 27us/step - loss: 0.0833 - acc: 0.9749 - val_loss: 0.0843 - val_acc: 0.9757\n",
      "Epoch 178/250\n",
      "48000/48000 [==============================] - 1s 28us/step - loss: 0.0824 - acc: 0.9749 - val_loss: 0.0842 - val_acc: 0.9760\n",
      "Epoch 179/250\n",
      "48000/48000 [==============================] - 1s 27us/step - loss: 0.0818 - acc: 0.9751 - val_loss: 0.0838 - val_acc: 0.9762\n",
      "Epoch 180/250\n",
      "48000/48000 [==============================] - 1s 27us/step - loss: 0.0804 - acc: 0.9757 - val_loss: 0.0840 - val_acc: 0.9758\n",
      "Epoch 181/250\n",
      "48000/48000 [==============================] - 1s 27us/step - loss: 0.0812 - acc: 0.9757 - val_loss: 0.0827 - val_acc: 0.9757\n",
      "Epoch 182/250\n",
      "48000/48000 [==============================] - 1s 27us/step - loss: 0.0812 - acc: 0.9745 - val_loss: 0.0833 - val_acc: 0.9763\n",
      "Epoch 183/250\n",
      "48000/48000 [==============================] - 1s 27us/step - loss: 0.0823 - acc: 0.9742 - val_loss: 0.0837 - val_acc: 0.9758\n",
      "Epoch 184/250\n",
      "48000/48000 [==============================] - 1s 27us/step - loss: 0.0814 - acc: 0.9752 - val_loss: 0.0839 - val_acc: 0.9762\n",
      "Epoch 185/250\n",
      "48000/48000 [==============================] - 1s 26us/step - loss: 0.0807 - acc: 0.9744 - val_loss: 0.0833 - val_acc: 0.9767\n",
      "Epoch 186/250\n",
      "48000/48000 [==============================] - 1s 27us/step - loss: 0.0800 - acc: 0.9755 - val_loss: 0.0833 - val_acc: 0.9765\n",
      "Epoch 187/250\n",
      "48000/48000 [==============================] - 1s 27us/step - loss: 0.0793 - acc: 0.9756 - val_loss: 0.0827 - val_acc: 0.9765\n",
      "Epoch 188/250\n",
      "48000/48000 [==============================] - 1s 27us/step - loss: 0.0797 - acc: 0.9755 - val_loss: 0.0834 - val_acc: 0.9764\n",
      "Epoch 189/250\n",
      "48000/48000 [==============================] - 1s 27us/step - loss: 0.0806 - acc: 0.9749 - val_loss: 0.0828 - val_acc: 0.9763\n",
      "Epoch 190/250\n",
      "48000/48000 [==============================] - 1s 27us/step - loss: 0.0802 - acc: 0.9756 - val_loss: 0.0827 - val_acc: 0.9762\n",
      "Epoch 191/250\n",
      "48000/48000 [==============================] - 1s 26us/step - loss: 0.0775 - acc: 0.9757 - val_loss: 0.0826 - val_acc: 0.9767\n",
      "Epoch 192/250\n",
      "48000/48000 [==============================] - 1s 26us/step - loss: 0.0780 - acc: 0.9765 - val_loss: 0.0821 - val_acc: 0.9767\n",
      "Epoch 193/250\n",
      "48000/48000 [==============================] - 1s 26us/step - loss: 0.0750 - acc: 0.9767 - val_loss: 0.0836 - val_acc: 0.9758\n",
      "Epoch 194/250\n",
      "48000/48000 [==============================] - 1s 26us/step - loss: 0.0761 - acc: 0.9769 - val_loss: 0.0838 - val_acc: 0.9762\n",
      "Epoch 195/250\n",
      "48000/48000 [==============================] - 1s 27us/step - loss: 0.0787 - acc: 0.9749 - val_loss: 0.0825 - val_acc: 0.9764\n",
      "Epoch 196/250\n",
      "48000/48000 [==============================] - 1s 26us/step - loss: 0.0783 - acc: 0.9757 - val_loss: 0.0825 - val_acc: 0.9769\n",
      "Epoch 197/250\n",
      "48000/48000 [==============================] - 1s 27us/step - loss: 0.0777 - acc: 0.9755 - val_loss: 0.0823 - val_acc: 0.9763\n",
      "Epoch 198/250\n",
      "48000/48000 [==============================] - 1s 27us/step - loss: 0.0768 - acc: 0.9762 - val_loss: 0.0832 - val_acc: 0.9764\n",
      "Epoch 199/250\n",
      "48000/48000 [==============================] - 1s 27us/step - loss: 0.0759 - acc: 0.9765 - val_loss: 0.0824 - val_acc: 0.9764\n",
      "Epoch 200/250\n",
      "48000/48000 [==============================] - 1s 26us/step - loss: 0.0758 - acc: 0.9763 - val_loss: 0.0830 - val_acc: 0.9767\n",
      "Epoch 201/250\n",
      "48000/48000 [==============================] - 1s 26us/step - loss: 0.0758 - acc: 0.9761 - val_loss: 0.0824 - val_acc: 0.9766\n",
      "Epoch 202/250\n",
      "48000/48000 [==============================] - 1s 26us/step - loss: 0.0742 - acc: 0.9776 - val_loss: 0.0826 - val_acc: 0.9768\n",
      "Epoch 203/250\n",
      "48000/48000 [==============================] - 1s 27us/step - loss: 0.0756 - acc: 0.9768 - val_loss: 0.0822 - val_acc: 0.9763\n",
      "Epoch 204/250\n",
      "48000/48000 [==============================] - 1s 26us/step - loss: 0.0737 - acc: 0.9775 - val_loss: 0.0819 - val_acc: 0.9765\n",
      "Epoch 205/250\n",
      "48000/48000 [==============================] - 1s 26us/step - loss: 0.0755 - acc: 0.9764 - val_loss: 0.0818 - val_acc: 0.9766\n",
      "Epoch 206/250\n",
      "48000/48000 [==============================] - 1s 26us/step - loss: 0.0745 - acc: 0.9772 - val_loss: 0.0824 - val_acc: 0.9767\n",
      "Epoch 207/250\n",
      "48000/48000 [==============================] - 1s 26us/step - loss: 0.0720 - acc: 0.9780 - val_loss: 0.0820 - val_acc: 0.9767\n",
      "Epoch 208/250\n",
      "48000/48000 [==============================] - 1s 26us/step - loss: 0.0741 - acc: 0.9766 - val_loss: 0.0826 - val_acc: 0.9764\n",
      "Epoch 209/250\n",
      "48000/48000 [==============================] - 1s 26us/step - loss: 0.0744 - acc: 0.9771 - val_loss: 0.0823 - val_acc: 0.9768\n",
      "Epoch 210/250\n",
      "48000/48000 [==============================] - 1s 26us/step - loss: 0.0733 - acc: 0.9772 - val_loss: 0.0822 - val_acc: 0.9764\n",
      "Epoch 211/250\n",
      "48000/48000 [==============================] - 1s 26us/step - loss: 0.0730 - acc: 0.9778 - val_loss: 0.0818 - val_acc: 0.9768\n",
      "Epoch 212/250\n",
      "48000/48000 [==============================] - 1s 26us/step - loss: 0.0728 - acc: 0.9773 - val_loss: 0.0813 - val_acc: 0.9770\n",
      "Epoch 213/250\n",
      "48000/48000 [==============================] - 1s 26us/step - loss: 0.0735 - acc: 0.9774 - val_loss: 0.0814 - val_acc: 0.9764\n",
      "Epoch 214/250\n",
      "48000/48000 [==============================] - 1s 26us/step - loss: 0.0731 - acc: 0.9776 - val_loss: 0.0814 - val_acc: 0.9768\n",
      "Epoch 215/250\n",
      "48000/48000 [==============================] - 1s 26us/step - loss: 0.0701 - acc: 0.9785 - val_loss: 0.0816 - val_acc: 0.9768\n",
      "Epoch 216/250\n",
      "48000/48000 [==============================] - 1s 26us/step - loss: 0.0734 - acc: 0.9768 - val_loss: 0.0815 - val_acc: 0.9768\n",
      "Epoch 217/250\n",
      "48000/48000 [==============================] - 1s 26us/step - loss: 0.0697 - acc: 0.9787 - val_loss: 0.0817 - val_acc: 0.9769\n",
      "Epoch 218/250\n",
      "48000/48000 [==============================] - 1s 25us/step - loss: 0.0695 - acc: 0.9787 - val_loss: 0.0815 - val_acc: 0.9774\n",
      "Epoch 219/250\n",
      "48000/48000 [==============================] - 1s 26us/step - loss: 0.0707 - acc: 0.9780 - val_loss: 0.0823 - val_acc: 0.9768\n",
      "Epoch 220/250\n",
      "48000/48000 [==============================] - 1s 26us/step - loss: 0.0691 - acc: 0.9787 - val_loss: 0.0819 - val_acc: 0.9768\n",
      "Epoch 221/250\n",
      "48000/48000 [==============================] - 1s 27us/step - loss: 0.0678 - acc: 0.9790 - val_loss: 0.0814 - val_acc: 0.9772\n",
      "Epoch 222/250\n",
      "48000/48000 [==============================] - 1s 26us/step - loss: 0.0696 - acc: 0.9776 - val_loss: 0.0814 - val_acc: 0.9768\n",
      "Epoch 223/250\n",
      "48000/48000 [==============================] - 1s 26us/step - loss: 0.0705 - acc: 0.9786 - val_loss: 0.0817 - val_acc: 0.9770\n",
      "Epoch 224/250\n",
      "48000/48000 [==============================] - 1s 26us/step - loss: 0.0700 - acc: 0.9770 - val_loss: 0.0811 - val_acc: 0.9768\n",
      "Epoch 225/250\n",
      "48000/48000 [==============================] - 1s 27us/step - loss: 0.0723 - acc: 0.9775 - val_loss: 0.0807 - val_acc: 0.9772\n",
      "Epoch 226/250\n",
      "48000/48000 [==============================] - 1s 27us/step - loss: 0.0684 - acc: 0.9786 - val_loss: 0.0809 - val_acc: 0.9771\n",
      "Epoch 227/250\n",
      "48000/48000 [==============================] - 1s 26us/step - loss: 0.0686 - acc: 0.9785 - val_loss: 0.0811 - val_acc: 0.9772\n",
      "Epoch 228/250\n",
      "48000/48000 [==============================] - 1s 26us/step - loss: 0.0681 - acc: 0.9785 - val_loss: 0.0810 - val_acc: 0.9770\n",
      "Epoch 229/250\n",
      "48000/48000 [==============================] - 1s 27us/step - loss: 0.0670 - acc: 0.9786 - val_loss: 0.0808 - val_acc: 0.9771\n",
      "Epoch 230/250\n",
      "48000/48000 [==============================] - 1s 26us/step - loss: 0.0685 - acc: 0.9786 - val_loss: 0.0810 - val_acc: 0.9774\n",
      "Epoch 231/250\n",
      "48000/48000 [==============================] - 1s 26us/step - loss: 0.0668 - acc: 0.9790 - val_loss: 0.0810 - val_acc: 0.9771\n",
      "Epoch 232/250\n",
      "48000/48000 [==============================] - 1s 26us/step - loss: 0.0669 - acc: 0.9798 - val_loss: 0.0813 - val_acc: 0.9776\n",
      "Epoch 233/250\n",
      "48000/48000 [==============================] - 1s 27us/step - loss: 0.0673 - acc: 0.9787 - val_loss: 0.0813 - val_acc: 0.9774\n",
      "Epoch 234/250\n",
      "48000/48000 [==============================] - 1s 26us/step - loss: 0.0676 - acc: 0.9786 - val_loss: 0.0811 - val_acc: 0.9770\n",
      "Epoch 235/250\n",
      "48000/48000 [==============================] - 1s 26us/step - loss: 0.0660 - acc: 0.9791 - val_loss: 0.0809 - val_acc: 0.9773\n",
      "Epoch 236/250\n",
      "48000/48000 [==============================] - 1s 26us/step - loss: 0.0681 - acc: 0.9780 - val_loss: 0.0816 - val_acc: 0.9778\n",
      "Epoch 237/250\n",
      "48000/48000 [==============================] - 1s 27us/step - loss: 0.0663 - acc: 0.9794 - val_loss: 0.0811 - val_acc: 0.9767\n",
      "Epoch 238/250\n",
      "48000/48000 [==============================] - 1s 27us/step - loss: 0.0656 - acc: 0.9799 - val_loss: 0.0812 - val_acc: 0.9770\n",
      "Epoch 239/250\n",
      "48000/48000 [==============================] - 1s 26us/step - loss: 0.0648 - acc: 0.9799 - val_loss: 0.0814 - val_acc: 0.9767\n",
      "Epoch 240/250\n",
      "48000/48000 [==============================] - 1s 26us/step - loss: 0.0672 - acc: 0.9781 - val_loss: 0.0813 - val_acc: 0.9764\n",
      "Epoch 241/250\n",
      "48000/48000 [==============================] - 1s 26us/step - loss: 0.0662 - acc: 0.9801 - val_loss: 0.0811 - val_acc: 0.9760\n",
      "Epoch 242/250\n",
      "48000/48000 [==============================] - 1s 26us/step - loss: 0.0664 - acc: 0.9788 - val_loss: 0.0806 - val_acc: 0.9777\n",
      "Epoch 243/250\n",
      "48000/48000 [==============================] - 1s 26us/step - loss: 0.0667 - acc: 0.9787 - val_loss: 0.0805 - val_acc: 0.9772\n",
      "Epoch 244/250\n",
      "48000/48000 [==============================] - 1s 26us/step - loss: 0.0646 - acc: 0.9794 - val_loss: 0.0803 - val_acc: 0.9772\n",
      "Epoch 245/250\n",
      "48000/48000 [==============================] - 1s 26us/step - loss: 0.0649 - acc: 0.9793 - val_loss: 0.0812 - val_acc: 0.9777\n",
      "Epoch 246/250\n",
      "48000/48000 [==============================] - 1s 26us/step - loss: 0.0644 - acc: 0.9801 - val_loss: 0.0812 - val_acc: 0.9772\n",
      "Epoch 247/250\n",
      "48000/48000 [==============================] - 1s 27us/step - loss: 0.0642 - acc: 0.9800 - val_loss: 0.0811 - val_acc: 0.9772\n",
      "Epoch 248/250\n",
      "48000/48000 [==============================] - 1s 26us/step - loss: 0.0637 - acc: 0.9807 - val_loss: 0.0808 - val_acc: 0.9775\n",
      "Epoch 249/250\n",
      "48000/48000 [==============================] - 1s 26us/step - loss: 0.0639 - acc: 0.9803 - val_loss: 0.0808 - val_acc: 0.9771\n",
      "Epoch 250/250\n",
      "48000/48000 [==============================] - 1s 26us/step - loss: 0.0634 - acc: 0.9798 - val_loss: 0.0806 - val_acc: 0.9778\n"
     ]
    }
   ],
   "source": [
    "history_3 = model_3.fit(X_train, Y_train, batch_size=BATCH_SIZE, validation_split=VALIDATION_SPLIT, verbose=VERBOSE, epochs=NB_EPOCH)"
   ]
  },
  {
   "cell_type": "code",
   "execution_count": 23,
   "metadata": {
    "colab": {
     "base_uri": "https://localhost:8080/",
     "height": 68
    },
    "colab_type": "code",
    "id": "QcTASsixtus-",
    "outputId": "021f6c7c-ad75-4075-9ad5-9f15c20645ae"
   },
   "outputs": [
    {
     "name": "stdout",
     "output_type": "stream",
     "text": [
      "10000/10000 [==============================] - 0s 40us/step\n",
      "Test Score: 0.07419064975836663 \n",
      "Test Accuracy: 0.9782\n"
     ]
    }
   ],
   "source": [
    "score_3 = model_3.evaluate(X_test, Y_test, verbose=VERBOSE)\n",
    "print('Test Score:', score_3[0], '\\nTest Accuracy:', score_3[1])"
   ]
  },
  {
   "cell_type": "code",
   "execution_count": null,
   "metadata": {
    "colab": {},
    "colab_type": "code",
    "id": "Jwu_W_dJwaG8"
   },
   "outputs": [],
   "source": [
    "from keras.optimizers import RMSprop, Adam\n",
    "from keras import "
   ]
  },
  {
   "cell_type": "markdown",
   "metadata": {
    "colab_type": "text",
    "id": "GuYElgzZ1tWS"
   },
   "source": [
    "# Testing different optimizer"
   ]
  },
  {
   "cell_type": "code",
   "execution_count": null,
   "metadata": {
    "colab": {},
    "colab_type": "code",
    "id": "99jIu3ijwuZi"
   },
   "outputs": [],
   "source": [
    "config_3 = model_3.get_config()\n",
    "model_4 = Sequential.from_config(config_3)"
   ]
  },
  {
   "cell_type": "code",
   "execution_count": null,
   "metadata": {
    "colab": {},
    "colab_type": "code",
    "id": "mIMgtxwOxWzb"
   },
   "outputs": [],
   "source": [
    "model_4.compile(loss='categorical_crossentropy', optimizer=RMSprop(), metrics=['accuracy'])"
   ]
  },
  {
   "cell_type": "code",
   "execution_count": 40,
   "metadata": {
    "colab": {
     "base_uri": "https://localhost:8080/",
     "height": 765
    },
    "colab_type": "code",
    "id": "ayVVz-La0a-F",
    "outputId": "a463ca72-0c98-43f2-b709-631ed1f7cd10"
   },
   "outputs": [
    {
     "name": "stdout",
     "output_type": "stream",
     "text": [
      "Train on 48000 samples, validate on 12000 samples\n",
      "Epoch 1/20\n",
      "48000/48000 [==============================] - 2s 39us/step - loss: 0.4642 - acc: 0.8608 - val_loss: 0.1804 - val_acc: 0.9477\n",
      "Epoch 2/20\n",
      "48000/48000 [==============================] - 1s 30us/step - loss: 0.2270 - acc: 0.9336 - val_loss: 0.1306 - val_acc: 0.9631\n",
      "Epoch 3/20\n",
      "48000/48000 [==============================] - 1s 29us/step - loss: 0.1766 - acc: 0.9486 - val_loss: 0.1113 - val_acc: 0.9684\n",
      "Epoch 4/20\n",
      "48000/48000 [==============================] - 1s 30us/step - loss: 0.1495 - acc: 0.9557 - val_loss: 0.1012 - val_acc: 0.9717\n",
      "Epoch 5/20\n",
      "48000/48000 [==============================] - 1s 29us/step - loss: 0.1321 - acc: 0.9607 - val_loss: 0.1020 - val_acc: 0.9715\n",
      "Epoch 6/20\n",
      "48000/48000 [==============================] - 1s 29us/step - loss: 0.1187 - acc: 0.9646 - val_loss: 0.0918 - val_acc: 0.9753\n",
      "Epoch 7/20\n",
      "48000/48000 [==============================] - 1s 30us/step - loss: 0.1096 - acc: 0.9666 - val_loss: 0.0961 - val_acc: 0.9734\n",
      "Epoch 8/20\n",
      "48000/48000 [==============================] - 1s 29us/step - loss: 0.1020 - acc: 0.9696 - val_loss: 0.0923 - val_acc: 0.9754\n",
      "Epoch 9/20\n",
      "48000/48000 [==============================] - 1s 30us/step - loss: 0.0986 - acc: 0.9705 - val_loss: 0.0944 - val_acc: 0.9752\n",
      "Epoch 10/20\n",
      "48000/48000 [==============================] - 1s 30us/step - loss: 0.0924 - acc: 0.9728 - val_loss: 0.0907 - val_acc: 0.9763\n",
      "Epoch 11/20\n",
      "48000/48000 [==============================] - 1s 31us/step - loss: 0.0891 - acc: 0.9735 - val_loss: 0.0954 - val_acc: 0.9762\n",
      "Epoch 12/20\n",
      "48000/48000 [==============================] - 1s 31us/step - loss: 0.0816 - acc: 0.9752 - val_loss: 0.0909 - val_acc: 0.9763\n",
      "Epoch 13/20\n",
      "48000/48000 [==============================] - 1s 31us/step - loss: 0.0819 - acc: 0.9767 - val_loss: 0.0904 - val_acc: 0.9777\n",
      "Epoch 14/20\n",
      "48000/48000 [==============================] - 1s 30us/step - loss: 0.0792 - acc: 0.9765 - val_loss: 0.0898 - val_acc: 0.9778\n",
      "Epoch 15/20\n",
      "48000/48000 [==============================] - 1s 30us/step - loss: 0.0735 - acc: 0.9780 - val_loss: 0.0999 - val_acc: 0.9765\n",
      "Epoch 16/20\n",
      "48000/48000 [==============================] - 1s 31us/step - loss: 0.0746 - acc: 0.9781 - val_loss: 0.0944 - val_acc: 0.9782\n",
      "Epoch 17/20\n",
      "48000/48000 [==============================] - 1s 30us/step - loss: 0.0708 - acc: 0.9786 - val_loss: 0.0999 - val_acc: 0.9765\n",
      "Epoch 18/20\n",
      "48000/48000 [==============================] - 1s 29us/step - loss: 0.0737 - acc: 0.9789 - val_loss: 0.0970 - val_acc: 0.9770\n",
      "Epoch 19/20\n",
      "48000/48000 [==============================] - 1s 30us/step - loss: 0.0684 - acc: 0.9797 - val_loss: 0.0983 - val_acc: 0.9784\n",
      "Epoch 20/20\n",
      "48000/48000 [==============================] - 1s 29us/step - loss: 0.0691 - acc: 0.9802 - val_loss: 0.0960 - val_acc: 0.9773\n",
      "10000/10000 [==============================] - 0s 38us/step\n",
      "Test Score: 0.09074975917004995 \n",
      "Test Accuracy: 0.9795\n"
     ]
    }
   ],
   "source": [
    "history_4 = model_4.fit(X_train, Y_train, batch_size=BATCH_SIZE, validation_split=VALIDATION_SPLIT, verbose=VERBOSE, epochs=20)\n",
    "score_4 = model_4.evaluate(X_test, Y_test, verbose=VERBOSE)\n",
    "print('Test Score:', score_4[0], '\\nTest Accuracy:', score_4[1])"
   ]
  },
  {
   "cell_type": "code",
   "execution_count": null,
   "metadata": {
    "colab": {},
    "colab_type": "code",
    "id": "OH3bAHYU2Br1"
   },
   "outputs": [],
   "source": [
    "model_5 = Sequential.from_config(config_3)"
   ]
  },
  {
   "cell_type": "code",
   "execution_count": null,
   "metadata": {
    "colab": {},
    "colab_type": "code",
    "id": "zhRuxN0k2UjF"
   },
   "outputs": [],
   "source": [
    "model_5.compile(loss='categorical_crossentropy', optimizer=Adam(), metrics=['accuracy'])"
   ]
  },
  {
   "cell_type": "code",
   "execution_count": 43,
   "metadata": {
    "colab": {
     "base_uri": "https://localhost:8080/",
     "height": 765
    },
    "colab_type": "code",
    "id": "9-ZB_zxl2ZW-",
    "outputId": "8643d3b3-0fd0-4c8a-f45e-6e43477dd276"
   },
   "outputs": [
    {
     "name": "stdout",
     "output_type": "stream",
     "text": [
      "Train on 48000 samples, validate on 12000 samples\n",
      "Epoch 1/20\n",
      "48000/48000 [==============================] - 2s 44us/step - loss: 0.5121 - acc: 0.8450 - val_loss: 0.1828 - val_acc: 0.9457\n",
      "Epoch 2/20\n",
      "48000/48000 [==============================] - 2s 32us/step - loss: 0.2323 - acc: 0.9306 - val_loss: 0.1415 - val_acc: 0.9577\n",
      "Epoch 3/20\n",
      "48000/48000 [==============================] - 2s 32us/step - loss: 0.1791 - acc: 0.9469 - val_loss: 0.1222 - val_acc: 0.9624\n",
      "Epoch 4/20\n",
      "48000/48000 [==============================] - 2s 31us/step - loss: 0.1514 - acc: 0.9547 - val_loss: 0.1042 - val_acc: 0.9688\n",
      "Epoch 5/20\n",
      "48000/48000 [==============================] - 2s 32us/step - loss: 0.1316 - acc: 0.9602 - val_loss: 0.1031 - val_acc: 0.9682\n",
      "Epoch 6/20\n",
      "48000/48000 [==============================] - 2s 32us/step - loss: 0.1171 - acc: 0.9651 - val_loss: 0.0929 - val_acc: 0.9713\n",
      "Epoch 7/20\n",
      "48000/48000 [==============================] - 2s 32us/step - loss: 0.1047 - acc: 0.9682 - val_loss: 0.0870 - val_acc: 0.9737\n",
      "Epoch 8/20\n",
      "48000/48000 [==============================] - 2s 31us/step - loss: 0.0967 - acc: 0.9699 - val_loss: 0.0922 - val_acc: 0.9736\n",
      "Epoch 9/20\n",
      "48000/48000 [==============================] - 2s 32us/step - loss: 0.0909 - acc: 0.9721 - val_loss: 0.0826 - val_acc: 0.9762\n",
      "Epoch 10/20\n",
      "48000/48000 [==============================] - 2s 32us/step - loss: 0.0838 - acc: 0.9733 - val_loss: 0.0849 - val_acc: 0.9746\n",
      "Epoch 11/20\n",
      "48000/48000 [==============================] - 2s 32us/step - loss: 0.0782 - acc: 0.9755 - val_loss: 0.0797 - val_acc: 0.9769\n",
      "Epoch 12/20\n",
      "48000/48000 [==============================] - 2s 32us/step - loss: 0.0723 - acc: 0.9775 - val_loss: 0.0813 - val_acc: 0.9765\n",
      "Epoch 13/20\n",
      "48000/48000 [==============================] - 2s 32us/step - loss: 0.0699 - acc: 0.9772 - val_loss: 0.0815 - val_acc: 0.9768\n",
      "Epoch 14/20\n",
      "48000/48000 [==============================] - 2s 31us/step - loss: 0.0658 - acc: 0.9791 - val_loss: 0.0822 - val_acc: 0.9763\n",
      "Epoch 15/20\n",
      "48000/48000 [==============================] - 2s 32us/step - loss: 0.0636 - acc: 0.9789 - val_loss: 0.0814 - val_acc: 0.9774\n",
      "Epoch 16/20\n",
      "48000/48000 [==============================] - 2s 31us/step - loss: 0.0604 - acc: 0.9810 - val_loss: 0.0885 - val_acc: 0.9757\n",
      "Epoch 17/20\n",
      "48000/48000 [==============================] - 2s 32us/step - loss: 0.0623 - acc: 0.9801 - val_loss: 0.0815 - val_acc: 0.9781\n",
      "Epoch 18/20\n",
      "48000/48000 [==============================] - 2s 32us/step - loss: 0.0596 - acc: 0.9805 - val_loss: 0.0778 - val_acc: 0.9782\n",
      "Epoch 19/20\n",
      "48000/48000 [==============================] - 2s 32us/step - loss: 0.0544 - acc: 0.9824 - val_loss: 0.0786 - val_acc: 0.9792\n",
      "Epoch 20/20\n",
      "48000/48000 [==============================] - 2s 32us/step - loss: 0.0546 - acc: 0.9821 - val_loss: 0.0803 - val_acc: 0.9776\n",
      "10000/10000 [==============================] - 0s 40us/step\n",
      "Test Score: 0.07428644627827162 \n",
      "Test Accuracy: 0.9788\n"
     ]
    }
   ],
   "source": [
    "history_5 = model_5.fit(X_train, Y_train, batch_size=BATCH_SIZE, validation_split=VALIDATION_SPLIT, verbose=VERBOSE, epochs=20)\n",
    "score_5 = model_5.evaluate(X_test, Y_test, verbose=VERBOSE)\n",
    "print('Test Score:', score_5[0], '\\nTest Accuracy:', score_5[1])"
   ]
  },
  {
   "cell_type": "code",
   "execution_count": null,
   "metadata": {
    "colab": {},
    "colab_type": "code",
    "id": "J5sGwI7x2hGi"
   },
   "outputs": [],
   "source": [
    "seq_models = [Sequential.from_config(config_3) for i in range(1,5)]"
   ]
  },
  {
   "cell_type": "code",
   "execution_count": null,
   "metadata": {
    "colab": {},
    "colab_type": "code",
    "id": "myZ0Eu-k3ojk"
   },
   "outputs": [],
   "source": [
    "learning_rate = [0.1, 0.01, 0.001, 0.0001]"
   ]
  },
  {
   "cell_type": "code",
   "execution_count": null,
   "metadata": {
    "colab": {},
    "colab_type": "code",
    "id": "_v6drw1k3tzL"
   },
   "outputs": [],
   "source": [
    "for m, rate in zip(seq_models, learning_rate):\n",
    "    m.compile(loss='categorical_crossentropy', optimizer=Adam(rate), metrics=['accuracy'])"
   ]
  },
  {
   "cell_type": "code",
   "execution_count": 54,
   "metadata": {
    "colab": {
     "base_uri": "https://localhost:8080/",
     "height": 1000
    },
    "colab_type": "code",
    "id": "szrKwfX-42CV",
    "outputId": "b7730cf4-0906-403b-d6f3-1e6df50a0205"
   },
   "outputs": [
    {
     "name": "stdout",
     "output_type": "stream",
     "text": [
      "Train on 48000 samples, validate on 12000 samples\n",
      "Epoch 1/20\n",
      "48000/48000 [==============================] - 2s 34us/step - loss: 14.5237 - acc: 0.0989 - val_loss: 14.5466 - val_acc: 0.0975\n",
      "Epoch 2/20\n",
      "48000/48000 [==============================] - 2s 33us/step - loss: 14.5237 - acc: 0.0989 - val_loss: 14.5466 - val_acc: 0.0975\n",
      "Epoch 3/20\n",
      "48000/48000 [==============================] - 2s 31us/step - loss: 14.5237 - acc: 0.0989 - val_loss: 14.5466 - val_acc: 0.0975\n",
      "Epoch 4/20\n",
      "48000/48000 [==============================] - 2s 32us/step - loss: 14.5237 - acc: 0.0989 - val_loss: 14.5466 - val_acc: 0.0975\n",
      "Epoch 5/20\n",
      "48000/48000 [==============================] - 2s 32us/step - loss: 14.5237 - acc: 0.0989 - val_loss: 14.5466 - val_acc: 0.0975\n",
      "Epoch 6/20\n",
      "48000/48000 [==============================] - 2s 32us/step - loss: 14.5237 - acc: 0.0989 - val_loss: 14.5466 - val_acc: 0.0975\n",
      "Epoch 7/20\n",
      "48000/48000 [==============================] - 2s 32us/step - loss: 14.5237 - acc: 0.0989 - val_loss: 14.5466 - val_acc: 0.0975\n",
      "Epoch 8/20\n",
      "48000/48000 [==============================] - 2s 32us/step - loss: 14.5237 - acc: 0.0989 - val_loss: 14.5466 - val_acc: 0.0975\n",
      "Epoch 9/20\n",
      "48000/48000 [==============================] - 2s 31us/step - loss: 14.5237 - acc: 0.0989 - val_loss: 14.5466 - val_acc: 0.0975\n",
      "Epoch 10/20\n",
      "48000/48000 [==============================] - 2s 32us/step - loss: 14.5237 - acc: 0.0989 - val_loss: 14.5466 - val_acc: 0.0975\n",
      "Epoch 11/20\n",
      "48000/48000 [==============================] - 2s 32us/step - loss: 14.5237 - acc: 0.0989 - val_loss: 14.5466 - val_acc: 0.0975\n",
      "Epoch 12/20\n",
      "48000/48000 [==============================] - 2s 32us/step - loss: 14.5237 - acc: 0.0989 - val_loss: 14.5466 - val_acc: 0.0975\n",
      "Epoch 13/20\n",
      "48000/48000 [==============================] - 2s 32us/step - loss: 14.5237 - acc: 0.0989 - val_loss: 14.5466 - val_acc: 0.0975\n",
      "Epoch 14/20\n",
      "48000/48000 [==============================] - 2s 32us/step - loss: 14.5237 - acc: 0.0989 - val_loss: 14.5466 - val_acc: 0.0975\n",
      "Epoch 15/20\n",
      "48000/48000 [==============================] - 2s 32us/step - loss: 14.5237 - acc: 0.0989 - val_loss: 14.5466 - val_acc: 0.0975\n",
      "Epoch 16/20\n",
      "48000/48000 [==============================] - 2s 32us/step - loss: 14.5237 - acc: 0.0989 - val_loss: 14.5466 - val_acc: 0.0975\n",
      "Epoch 17/20\n",
      "48000/48000 [==============================] - 2s 33us/step - loss: 14.5237 - acc: 0.0989 - val_loss: 14.5466 - val_acc: 0.0975\n",
      "Epoch 18/20\n",
      "48000/48000 [==============================] - 2s 32us/step - loss: 14.5237 - acc: 0.0989 - val_loss: 14.5466 - val_acc: 0.0975\n",
      "Epoch 19/20\n",
      "48000/48000 [==============================] - 2s 32us/step - loss: 14.5237 - acc: 0.0989 - val_loss: 14.5466 - val_acc: 0.0975\n",
      "Epoch 20/20\n",
      "48000/48000 [==============================] - 2s 32us/step - loss: 14.5237 - acc: 0.0989 - val_loss: 14.5466 - val_acc: 0.0975\n",
      "Train on 48000 samples, validate on 12000 samples\n",
      "Epoch 1/20\n",
      "48000/48000 [==============================] - 2s 32us/step - loss: 0.2051 - acc: 0.9477 - val_loss: 0.1471 - val_acc: 0.9636\n",
      "Epoch 2/20\n",
      "48000/48000 [==============================] - 2s 31us/step - loss: 0.1984 - acc: 0.9499 - val_loss: 0.1579 - val_acc: 0.9649\n",
      "Epoch 3/20\n",
      "48000/48000 [==============================] - 2s 32us/step - loss: 0.2051 - acc: 0.9492 - val_loss: 0.1798 - val_acc: 0.9639\n",
      "Epoch 4/20\n",
      "48000/48000 [==============================] - 2s 32us/step - loss: 0.2073 - acc: 0.9488 - val_loss: 0.1499 - val_acc: 0.9631\n",
      "Epoch 5/20\n",
      "48000/48000 [==============================] - 2s 31us/step - loss: 0.1978 - acc: 0.9507 - val_loss: 0.1628 - val_acc: 0.9642\n",
      "Epoch 6/20\n",
      "48000/48000 [==============================] - 2s 31us/step - loss: 0.1940 - acc: 0.9519 - val_loss: 0.1705 - val_acc: 0.9592\n",
      "Epoch 7/20\n",
      "48000/48000 [==============================] - 2s 32us/step - loss: 0.2001 - acc: 0.9514 - val_loss: 0.1480 - val_acc: 0.9657\n",
      "Epoch 8/20\n",
      "48000/48000 [==============================] - 1s 31us/step - loss: 0.1968 - acc: 0.9513 - val_loss: 0.1502 - val_acc: 0.9674\n",
      "Epoch 9/20\n",
      "48000/48000 [==============================] - 2s 31us/step - loss: 0.1868 - acc: 0.9521 - val_loss: 0.1554 - val_acc: 0.9633\n",
      "Epoch 10/20\n",
      "48000/48000 [==============================] - 1s 31us/step - loss: 0.1920 - acc: 0.9514 - val_loss: 0.1803 - val_acc: 0.9606\n",
      "Epoch 11/20\n",
      "48000/48000 [==============================] - 2s 32us/step - loss: 0.1929 - acc: 0.9528 - val_loss: 0.1589 - val_acc: 0.9649\n",
      "Epoch 12/20\n",
      "48000/48000 [==============================] - 1s 31us/step - loss: 0.1934 - acc: 0.9524 - val_loss: 0.1535 - val_acc: 0.9631\n",
      "Epoch 13/20\n",
      "48000/48000 [==============================] - 2s 31us/step - loss: 0.1916 - acc: 0.9528 - val_loss: 0.1552 - val_acc: 0.9632\n",
      "Epoch 14/20\n",
      "48000/48000 [==============================] - 2s 33us/step - loss: 0.1971 - acc: 0.9525 - val_loss: 0.1445 - val_acc: 0.9658\n",
      "Epoch 15/20\n",
      "48000/48000 [==============================] - 2s 33us/step - loss: 0.2024 - acc: 0.9516 - val_loss: 0.1595 - val_acc: 0.9644\n",
      "Epoch 16/20\n",
      "48000/48000 [==============================] - 2s 32us/step - loss: 0.2028 - acc: 0.9513 - val_loss: 0.1505 - val_acc: 0.9662\n",
      "Epoch 17/20\n",
      "48000/48000 [==============================] - 2s 33us/step - loss: 0.1862 - acc: 0.9550 - val_loss: 0.1528 - val_acc: 0.9648\n",
      "Epoch 18/20\n",
      "48000/48000 [==============================] - 2s 33us/step - loss: 0.2002 - acc: 0.9530 - val_loss: 0.1494 - val_acc: 0.9643\n",
      "Epoch 19/20\n",
      "48000/48000 [==============================] - 2s 32us/step - loss: 0.1877 - acc: 0.9544 - val_loss: 0.1608 - val_acc: 0.9653\n",
      "Epoch 20/20\n",
      "48000/48000 [==============================] - 2s 33us/step - loss: 0.1918 - acc: 0.9546 - val_loss: 0.1689 - val_acc: 0.9668\n",
      "Train on 48000 samples, validate on 12000 samples\n",
      "Epoch 1/20\n",
      "48000/48000 [==============================] - 2s 32us/step - loss: 0.0819 - acc: 0.9746 - val_loss: 0.0855 - val_acc: 0.9755\n",
      "Epoch 2/20\n",
      "48000/48000 [==============================] - 2s 31us/step - loss: 0.0738 - acc: 0.9763 - val_loss: 0.0814 - val_acc: 0.9776\n",
      "Epoch 3/20\n",
      "48000/48000 [==============================] - 2s 31us/step - loss: 0.0679 - acc: 0.9782 - val_loss: 0.0844 - val_acc: 0.9782\n",
      "Epoch 4/20\n",
      "48000/48000 [==============================] - 2s 31us/step - loss: 0.0659 - acc: 0.9786 - val_loss: 0.0851 - val_acc: 0.9768\n",
      "Epoch 5/20\n",
      "48000/48000 [==============================] - 2s 32us/step - loss: 0.0645 - acc: 0.9795 - val_loss: 0.0772 - val_acc: 0.9796\n",
      "Epoch 6/20\n",
      "48000/48000 [==============================] - 2s 32us/step - loss: 0.0619 - acc: 0.9800 - val_loss: 0.0834 - val_acc: 0.9773\n",
      "Epoch 7/20\n",
      "48000/48000 [==============================] - 2s 32us/step - loss: 0.0620 - acc: 0.9805 - val_loss: 0.0775 - val_acc: 0.9803\n",
      "Epoch 8/20\n",
      "48000/48000 [==============================] - 2s 31us/step - loss: 0.0560 - acc: 0.9812 - val_loss: 0.0800 - val_acc: 0.9797\n",
      "Epoch 9/20\n",
      "48000/48000 [==============================] - 2s 32us/step - loss: 0.0550 - acc: 0.9818 - val_loss: 0.0810 - val_acc: 0.9784\n",
      "Epoch 10/20\n",
      "48000/48000 [==============================] - 2s 32us/step - loss: 0.0512 - acc: 0.9830 - val_loss: 0.0805 - val_acc: 0.9788\n",
      "Epoch 11/20\n",
      "48000/48000 [==============================] - 2s 32us/step - loss: 0.0519 - acc: 0.9826 - val_loss: 0.0846 - val_acc: 0.9790\n",
      "Epoch 12/20\n",
      "48000/48000 [==============================] - 2s 32us/step - loss: 0.0501 - acc: 0.9838 - val_loss: 0.0831 - val_acc: 0.9788\n",
      "Epoch 13/20\n",
      "48000/48000 [==============================] - 2s 32us/step - loss: 0.0485 - acc: 0.9841 - val_loss: 0.0809 - val_acc: 0.9798\n",
      "Epoch 14/20\n",
      "48000/48000 [==============================] - 1s 31us/step - loss: 0.0493 - acc: 0.9838 - val_loss: 0.0851 - val_acc: 0.9798\n",
      "Epoch 15/20\n",
      "48000/48000 [==============================] - 1s 31us/step - loss: 0.0462 - acc: 0.9856 - val_loss: 0.0818 - val_acc: 0.9785\n",
      "Epoch 16/20\n",
      "48000/48000 [==============================] - 1s 31us/step - loss: 0.0473 - acc: 0.9849 - val_loss: 0.0823 - val_acc: 0.9783\n",
      "Epoch 17/20\n",
      "48000/48000 [==============================] - 2s 32us/step - loss: 0.0444 - acc: 0.9858 - val_loss: 0.0832 - val_acc: 0.9793\n",
      "Epoch 18/20\n",
      "48000/48000 [==============================] - 2s 31us/step - loss: 0.0429 - acc: 0.9859 - val_loss: 0.0895 - val_acc: 0.9785\n",
      "Epoch 19/20\n",
      "48000/48000 [==============================] - 1s 31us/step - loss: 0.0422 - acc: 0.9856 - val_loss: 0.0847 - val_acc: 0.9792\n",
      "Epoch 20/20\n",
      "48000/48000 [==============================] - 2s 32us/step - loss: 0.0409 - acc: 0.9866 - val_loss: 0.0899 - val_acc: 0.9797\n",
      "Train on 48000 samples, validate on 12000 samples\n",
      "Epoch 1/20\n",
      "48000/48000 [==============================] - 2s 44us/step - loss: 1.3412 - acc: 0.5854 - val_loss: 0.5159 - val_acc: 0.8739\n",
      "Epoch 2/20\n",
      "48000/48000 [==============================] - 2s 31us/step - loss: 0.5992 - acc: 0.8209 - val_loss: 0.3397 - val_acc: 0.9056\n",
      "Epoch 3/20\n",
      "48000/48000 [==============================] - 2s 32us/step - loss: 0.4590 - acc: 0.8630 - val_loss: 0.2811 - val_acc: 0.9202\n",
      "Epoch 4/20\n",
      "48000/48000 [==============================] - 1s 31us/step - loss: 0.3880 - acc: 0.8866 - val_loss: 0.2476 - val_acc: 0.9278\n",
      "Epoch 5/20\n",
      "48000/48000 [==============================] - 2s 31us/step - loss: 0.3491 - acc: 0.8985 - val_loss: 0.2239 - val_acc: 0.9350\n",
      "Epoch 6/20\n",
      "48000/48000 [==============================] - 2s 32us/step - loss: 0.3142 - acc: 0.9085 - val_loss: 0.2059 - val_acc: 0.9403\n",
      "Epoch 7/20\n",
      "48000/48000 [==============================] - 2s 31us/step - loss: 0.2892 - acc: 0.9144 - val_loss: 0.1906 - val_acc: 0.9449\n",
      "Epoch 8/20\n",
      "48000/48000 [==============================] - 2s 32us/step - loss: 0.2689 - acc: 0.9208 - val_loss: 0.1792 - val_acc: 0.9472\n",
      "Epoch 9/20\n",
      "48000/48000 [==============================] - 2s 31us/step - loss: 0.2508 - acc: 0.9265 - val_loss: 0.1700 - val_acc: 0.9504\n",
      "Epoch 10/20\n",
      "48000/48000 [==============================] - 2s 32us/step - loss: 0.2348 - acc: 0.9307 - val_loss: 0.1615 - val_acc: 0.9524\n",
      "Epoch 11/20\n",
      "48000/48000 [==============================] - 1s 31us/step - loss: 0.2237 - acc: 0.9331 - val_loss: 0.1538 - val_acc: 0.9544\n",
      "Epoch 12/20\n",
      "48000/48000 [==============================] - 2s 31us/step - loss: 0.2117 - acc: 0.9375 - val_loss: 0.1459 - val_acc: 0.9561\n",
      "Epoch 13/20\n",
      "48000/48000 [==============================] - 2s 32us/step - loss: 0.2002 - acc: 0.9408 - val_loss: 0.1403 - val_acc: 0.9587\n",
      "Epoch 14/20\n",
      "48000/48000 [==============================] - 2s 32us/step - loss: 0.1909 - acc: 0.9444 - val_loss: 0.1353 - val_acc: 0.9599\n",
      "Epoch 15/20\n",
      "48000/48000 [==============================] - 1s 31us/step - loss: 0.1829 - acc: 0.9461 - val_loss: 0.1307 - val_acc: 0.9618\n",
      "Epoch 16/20\n",
      "48000/48000 [==============================] - 2s 32us/step - loss: 0.1763 - acc: 0.9489 - val_loss: 0.1265 - val_acc: 0.9623\n",
      "Epoch 17/20\n",
      "48000/48000 [==============================] - 1s 31us/step - loss: 0.1680 - acc: 0.9502 - val_loss: 0.1239 - val_acc: 0.9626\n",
      "Epoch 18/20\n",
      "48000/48000 [==============================] - 2s 31us/step - loss: 0.1608 - acc: 0.9521 - val_loss: 0.1199 - val_acc: 0.9643\n",
      "Epoch 19/20\n",
      "48000/48000 [==============================] - 2s 31us/step - loss: 0.1563 - acc: 0.9539 - val_loss: 0.1170 - val_acc: 0.9651\n",
      "Epoch 20/20\n",
      "48000/48000 [==============================] - 1s 31us/step - loss: 0.1531 - acc: 0.9551 - val_loss: 0.1133 - val_acc: 0.9674\n"
     ]
    }
   ],
   "source": [
    "his = [ m.fit(X_train, Y_train, batch_size=BATCH_SIZE, validation_split=VALIDATION_SPLIT, verbose=VERBOSE, epochs=20) for m in seq_models]\n"
   ]
  },
  {
   "cell_type": "code",
   "execution_count": 55,
   "metadata": {
    "colab": {
     "base_uri": "https://localhost:8080/",
     "height": 238
    },
    "colab_type": "code",
    "id": "jjfOGl005Gj_",
    "outputId": "56bb05e6-9525-4a1b-f887-bad382a8286b"
   },
   "outputs": [
    {
     "name": "stdout",
     "output_type": "stream",
     "text": [
      "10000/10000 [==============================] - 0s 43us/step\n",
      "10000/10000 [==============================] - 0s 42us/step\n",
      "10000/10000 [==============================] - 0s 41us/step\n",
      "10000/10000 [==============================] - 0s 42us/step\n",
      "Test Score: 14.573981648254394 \n",
      "Test Accuracy: 0.0958\n",
      "Test Score: 0.18730455088852496 \n",
      "Test Accuracy: 0.963\n",
      "Test Score: 0.08108907645110484 \n",
      "Test Accuracy: 0.9791\n",
      "Test Score: 0.10892118208147586 \n",
      "Test Accuracy: 0.9656\n"
     ]
    },
    {
     "data": {
      "text/plain": [
       "[None, None, None, None]"
      ]
     },
     "execution_count": 55,
     "metadata": {
      "tags": []
     },
     "output_type": "execute_result"
    }
   ],
   "source": [
    "sco = [ m.evaluate(X_test, Y_test, verbose=VERBOSE) for m in seq_models]\n",
    "[ print('Test Score:', s[0], '\\nTest Accuracy:', s[1]) for s in sco]"
   ]
  },
  {
   "cell_type": "code",
   "execution_count": null,
   "metadata": {
    "colab": {},
    "colab_type": "code",
    "id": "svOXTVYf7YRw"
   },
   "outputs": [],
   "source": []
  }
 ],
 "metadata": {
  "accelerator": "GPU",
  "colab": {
   "collapsed_sections": [],
   "name": "perceptron.ipynb",
   "provenance": [],
   "version": "0.3.2"
  },
  "kernelspec": {
   "display_name": "Python 3",
   "language": "python",
   "name": "python3"
  },
  "language_info": {
   "codemirror_mode": {
    "name": "ipython",
    "version": 3
   },
   "file_extension": ".py",
   "mimetype": "text/x-python",
   "name": "python",
   "nbconvert_exporter": "python",
   "pygments_lexer": "ipython3",
   "version": "3.7.3"
  }
 },
 "nbformat": 4,
 "nbformat_minor": 2
}
